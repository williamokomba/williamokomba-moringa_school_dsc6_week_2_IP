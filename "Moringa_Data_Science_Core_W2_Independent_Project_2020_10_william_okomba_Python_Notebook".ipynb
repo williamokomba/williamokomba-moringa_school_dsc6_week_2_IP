{
  "nbformat": 4,
  "nbformat_minor": 0,
  "metadata": {
    "colab": {
      "name": "\"Moringa_Data_Science_Core_W2_Independent_Project_2020_10_william_okomba_Python_Notebook\"",
      "provenance": [],
      "collapsed_sections": [
        "8YptqzuJiO25"
      ],
      "toc_visible": true,
      "authorship_tag": "ABX9TyPLdxW5oSydLc+cR3TH41sC",
      "include_colab_link": true
    },
    "kernelspec": {
      "name": "python3",
      "display_name": "Python 3"
    }
  },
  "cells": [
    {
      "cell_type": "markdown",
      "metadata": {
        "id": "view-in-github",
        "colab_type": "text"
      },
      "source": [
        "<a href=\"https://colab.research.google.com/github/williamokomba/williamokomba-moringa_school_dsc6_week_2_IP/blob/main/%22Moringa_Data_Science_Core_W2_Independent_Project_2020_10_william_okomba_Python_Notebook%22.ipynb\" target=\"_parent\"><img src=\"https://colab.research.google.com/assets/colab-badge.svg\" alt=\"Open In Colab\"/></a>"
      ]
    },
    {
      "cell_type": "markdown",
      "metadata": {
        "id": "EO8qPRAZhVsj"
      },
      "source": [
        "# **Exploratory Data Analysis**"
      ]
    },
    {
      "cell_type": "markdown",
      "metadata": {
        "id": "C_xx5DXXhc7D"
      },
      "source": [
        "## 1. Defining the Question"
      ]
    },
    {
      "cell_type": "markdown",
      "metadata": {
        "id": "ITxNSmp-QTQ7"
      },
      "source": [
        "Dataset provided\n",
        "\n",
        "\n",
        "1.   Dataset: http://bit.ly/FinancialDataset\n",
        "2.   Variable Definitions: http://bit.ly/VariableDefinitions\n",
        "\n"
      ]
    },
    {
      "cell_type": "markdown",
      "metadata": {
        "id": "H_zDHBseuHp0"
      },
      "source": [
        "more information about the survey.\n",
        "\n",
        "1.   FinAccess Kenya 2018. [[link](https://fsdkenya.org/publication/finaccess2019/)]\n",
        "2. Finscope Rwanda 2016. [[link](http://www.statistics.gov.rw/publication/finscope-rwanda-2016)]\n",
        "3. Finscope Tanzania 2017. [[link](http://www.fsdt.or.tz/finscope/)]\n",
        "3. Finscope Uganda 2018. [[link](http://www.fsdt.or.tz/finscope/)]\n",
        "\n",
        "\n"
      ]
    },
    {
      "cell_type": "markdown",
      "metadata": {
        "id": "OBGrY6u6hvOh"
      },
      "source": [
        "### a) Specifying the Data Analytic Question`"
      ]
    },
    {
      "cell_type": "markdown",
      "metadata": {
        "id": "6-0Ti4jpJmR7"
      },
      "source": [
        "what factors/predictors that determines whether an individual has bank account\n",
        "\n",
        "---\n",
        "\n"
      ]
    },
    {
      "cell_type": "markdown",
      "metadata": {
        "id": "HkEBybg-h7_g"
      },
      "source": [
        "###b) Defining the Metric for Success"
      ]
    },
    {
      "cell_type": "markdown",
      "metadata": {
        "id": "_aR798kK8l9k"
      },
      "source": [
        "Having bank account"
      ]
    },
    {
      "cell_type": "markdown",
      "metadata": {
        "id": "DfGmm3p3iERi"
      },
      "source": [
        "###c) Understanding the context"
      ]
    },
    {
      "cell_type": "markdown",
      "metadata": {
        "id": "W57f_XwG8zoL"
      },
      "source": [
        "Identify whether age, country, location, influences and indivual to have bank account."
      ]
    },
    {
      "cell_type": "markdown",
      "metadata": {
        "id": "aeeqKW37iL7Y"
      },
      "source": [
        "###d) Recording the Experimental Design"
      ]
    },
    {
      "cell_type": "markdown",
      "metadata": {
        "id": "PO4yFRvJ9Y9m"
      },
      "source": [
        "simple crosssection analysis"
      ]
    },
    {
      "cell_type": "markdown",
      "metadata": {
        "id": "fAuhk3TriQB5"
      },
      "source": [
        "###e) Data *Relevance*"
      ]
    },
    {
      "cell_type": "markdown",
      "metadata": {
        "id": "g5QSJQsesnIG"
      },
      "source": [
        "finance related dataset thus it is relevant to this research"
      ]
    },
    {
      "cell_type": "markdown",
      "metadata": {
        "id": "YnsMc1WfrIUW"
      },
      "source": [
        "## 2. Importing Libraries"
      ]
    },
    {
      "cell_type": "code",
      "metadata": {
        "id": "uIYaI2pWQx4N"
      },
      "source": [
        "# importing numpy for performing scientific computations\n",
        "import numpy as np\n",
        "#\n",
        "# importing pandas to perform data analysis and manipulation\n",
        "import pandas as pd\n",
        "#\n",
        "# importing matplotlib.pyplot for data visualization\n",
        "import matplotlib.pyplot as plt\n",
        "#\n",
        "# importing seaborn for data visualization\n",
        "import seaborn as sns"
      ],
      "execution_count": 552,
      "outputs": []
    },
    {
      "cell_type": "markdown",
      "metadata": {
        "id": "x56Bry1LjC8q"
      },
      "source": [
        "## 3. Reading the Data"
      ]
    },
    {
      "cell_type": "code",
      "metadata": {
        "id": "_mUT59BZkQeI"
      },
      "source": [
        "# Loading the Data from the source i.e. csv\n",
        "#\n",
        "#Dataset: http://bit.ly/FinancialDataset\n",
        "#\n",
        "bank_df=pd.read_csv(\"http://bit.ly/FinancialDataset\")\n",
        "bank_df1=bank_df"
      ],
      "execution_count": 553,
      "outputs": []
    },
    {
      "cell_type": "markdown",
      "metadata": {
        "id": "oTZFy_RujFRm"
      },
      "source": [
        "##4. Checking the Data"
      ]
    },
    {
      "cell_type": "code",
      "metadata": {
        "id": "5KgciguYkYD0",
        "outputId": "9833461b-8f1c-4ddc-ad1b-93eb15c2cbdc",
        "colab": {
          "base_uri": "https://localhost:8080/",
          "height": 34
        }
      },
      "source": [
        "#4a. Determining the no. of records in our dataset\n",
        "#\n",
        "bank_df1.shape"
      ],
      "execution_count": 554,
      "outputs": [
        {
          "output_type": "execute_result",
          "data": {
            "text/plain": [
              "(23524, 13)"
            ]
          },
          "metadata": {
            "tags": []
          },
          "execution_count": 554
        }
      ]
    },
    {
      "cell_type": "markdown",
      "metadata": {
        "id": "j3JbczRqTWsu"
      },
      "source": [
        "the dataset has 23524 records (rows) and 13 features/variables(colunms)."
      ]
    },
    {
      "cell_type": "code",
      "metadata": {
        "id": "QAsSSScvYhD2",
        "outputId": "c4aef407-32c0-4a0b-cba9-52d0fc3b8924",
        "colab": {
          "base_uri": "https://localhost:8080/",
          "height": 372
        }
      },
      "source": [
        "#4b preview all the columns\n",
        "bank_df1.info()"
      ],
      "execution_count": 555,
      "outputs": [
        {
          "output_type": "stream",
          "text": [
            "<class 'pandas.core.frame.DataFrame'>\n",
            "RangeIndex: 23524 entries, 0 to 23523\n",
            "Data columns (total 13 columns):\n",
            " #   Column                  Non-Null Count  Dtype  \n",
            "---  ------                  --------------  -----  \n",
            " 0   country                 23510 non-null  object \n",
            " 1   year                    23524 non-null  int64  \n",
            " 2   uniqueid                23524 non-null  object \n",
            " 3   Has a Bank account      23488 non-null  object \n",
            " 4   Type of Location        23509 non-null  object \n",
            " 5   Cell Phone Access       23513 non-null  object \n",
            " 6   household_size          23496 non-null  float64\n",
            " 7   Respondent Age          23490 non-null  float64\n",
            " 8   gender_of_respondent    23490 non-null  object \n",
            " 9   The relathip with head  23520 non-null  object \n",
            " 10  marital_status          23492 non-null  object \n",
            " 11  Level of Educuation     23495 non-null  object \n",
            " 12  Type of Job             23494 non-null  object \n",
            "dtypes: float64(2), int64(1), object(10)\n",
            "memory usage: 2.3+ MB\n"
          ],
          "name": "stdout"
        }
      ]
    },
    {
      "cell_type": "markdown",
      "metadata": {
        "id": "mYDyrxehW7_P"
      },
      "source": [
        "dataset is made up of 23524 entries, 13 colunms and its 2.3+ MB"
      ]
    },
    {
      "cell_type": "code",
      "metadata": {
        "id": "Vql9fqtykZLb",
        "outputId": "c7515f5d-2eff-4299-f169-8a34dd31022c",
        "colab": {
          "base_uri": "https://localhost:8080/",
          "height": 367
        }
      },
      "source": [
        "#4c. Previewing the top of our dataset\n",
        "#\n",
        "bank_df1.head()"
      ],
      "execution_count": 556,
      "outputs": [
        {
          "output_type": "execute_result",
          "data": {
            "text/html": [
              "<div>\n",
              "<style scoped>\n",
              "    .dataframe tbody tr th:only-of-type {\n",
              "        vertical-align: middle;\n",
              "    }\n",
              "\n",
              "    .dataframe tbody tr th {\n",
              "        vertical-align: top;\n",
              "    }\n",
              "\n",
              "    .dataframe thead th {\n",
              "        text-align: right;\n",
              "    }\n",
              "</style>\n",
              "<table border=\"1\" class=\"dataframe\">\n",
              "  <thead>\n",
              "    <tr style=\"text-align: right;\">\n",
              "      <th></th>\n",
              "      <th>country</th>\n",
              "      <th>year</th>\n",
              "      <th>uniqueid</th>\n",
              "      <th>Has a Bank account</th>\n",
              "      <th>Type of Location</th>\n",
              "      <th>Cell Phone Access</th>\n",
              "      <th>household_size</th>\n",
              "      <th>Respondent Age</th>\n",
              "      <th>gender_of_respondent</th>\n",
              "      <th>The relathip with head</th>\n",
              "      <th>marital_status</th>\n",
              "      <th>Level of Educuation</th>\n",
              "      <th>Type of Job</th>\n",
              "    </tr>\n",
              "  </thead>\n",
              "  <tbody>\n",
              "    <tr>\n",
              "      <th>0</th>\n",
              "      <td>Kenya</td>\n",
              "      <td>2018</td>\n",
              "      <td>uniqueid_1</td>\n",
              "      <td>Yes</td>\n",
              "      <td>Rural</td>\n",
              "      <td>Yes</td>\n",
              "      <td>3.0</td>\n",
              "      <td>24.0</td>\n",
              "      <td>Female</td>\n",
              "      <td>Spouse</td>\n",
              "      <td>Married/Living together</td>\n",
              "      <td>Secondary education</td>\n",
              "      <td>Self employed</td>\n",
              "    </tr>\n",
              "    <tr>\n",
              "      <th>1</th>\n",
              "      <td>Kenya</td>\n",
              "      <td>2018</td>\n",
              "      <td>uniqueid_2</td>\n",
              "      <td>No</td>\n",
              "      <td>Rural</td>\n",
              "      <td>No</td>\n",
              "      <td>5.0</td>\n",
              "      <td>70.0</td>\n",
              "      <td>Female</td>\n",
              "      <td>Head of Household</td>\n",
              "      <td>Widowed</td>\n",
              "      <td>No formal education</td>\n",
              "      <td>Government Dependent</td>\n",
              "    </tr>\n",
              "    <tr>\n",
              "      <th>2</th>\n",
              "      <td>Kenya</td>\n",
              "      <td>2018</td>\n",
              "      <td>uniqueid_3</td>\n",
              "      <td>Yes</td>\n",
              "      <td>Urban</td>\n",
              "      <td>Yes</td>\n",
              "      <td>5.0</td>\n",
              "      <td>26.0</td>\n",
              "      <td>Male</td>\n",
              "      <td>Other relative</td>\n",
              "      <td>Single/Never Married</td>\n",
              "      <td>Vocational/Specialised training</td>\n",
              "      <td>Self employed</td>\n",
              "    </tr>\n",
              "    <tr>\n",
              "      <th>3</th>\n",
              "      <td>Kenya</td>\n",
              "      <td>2018</td>\n",
              "      <td>uniqueid_4</td>\n",
              "      <td>No</td>\n",
              "      <td>Rural</td>\n",
              "      <td>Yes</td>\n",
              "      <td>5.0</td>\n",
              "      <td>34.0</td>\n",
              "      <td>Female</td>\n",
              "      <td>Head of Household</td>\n",
              "      <td>Married/Living together</td>\n",
              "      <td>Primary education</td>\n",
              "      <td>Formally employed Private</td>\n",
              "    </tr>\n",
              "    <tr>\n",
              "      <th>4</th>\n",
              "      <td>Kenya</td>\n",
              "      <td>2018</td>\n",
              "      <td>uniqueid_5</td>\n",
              "      <td>No</td>\n",
              "      <td>Urban</td>\n",
              "      <td>No</td>\n",
              "      <td>8.0</td>\n",
              "      <td>26.0</td>\n",
              "      <td>Male</td>\n",
              "      <td>Child</td>\n",
              "      <td>Single/Never Married</td>\n",
              "      <td>Primary education</td>\n",
              "      <td>Informally employed</td>\n",
              "    </tr>\n",
              "  </tbody>\n",
              "</table>\n",
              "</div>"
            ],
            "text/plain": [
              "  country  year  ...              Level of Educuation                Type of Job\n",
              "0   Kenya  2018  ...              Secondary education              Self employed\n",
              "1   Kenya  2018  ...              No formal education       Government Dependent\n",
              "2   Kenya  2018  ...  Vocational/Specialised training              Self employed\n",
              "3   Kenya  2018  ...                Primary education  Formally employed Private\n",
              "4   Kenya  2018  ...                Primary education        Informally employed\n",
              "\n",
              "[5 rows x 13 columns]"
            ]
          },
          "metadata": {
            "tags": []
          },
          "execution_count": 556
        }
      ]
    },
    {
      "cell_type": "code",
      "metadata": {
        "id": "epwiAZbIkd7J",
        "outputId": "53e826a0-7898-47b3-9c95-9a0f8f886817",
        "colab": {
          "base_uri": "https://localhost:8080/",
          "height": 351
        }
      },
      "source": [
        "#4d. Previewing the bottom of our dataset\n",
        "# \n",
        "bank_df1.tail()"
      ],
      "execution_count": 557,
      "outputs": [
        {
          "output_type": "execute_result",
          "data": {
            "text/html": [
              "<div>\n",
              "<style scoped>\n",
              "    .dataframe tbody tr th:only-of-type {\n",
              "        vertical-align: middle;\n",
              "    }\n",
              "\n",
              "    .dataframe tbody tr th {\n",
              "        vertical-align: top;\n",
              "    }\n",
              "\n",
              "    .dataframe thead th {\n",
              "        text-align: right;\n",
              "    }\n",
              "</style>\n",
              "<table border=\"1\" class=\"dataframe\">\n",
              "  <thead>\n",
              "    <tr style=\"text-align: right;\">\n",
              "      <th></th>\n",
              "      <th>country</th>\n",
              "      <th>year</th>\n",
              "      <th>uniqueid</th>\n",
              "      <th>Has a Bank account</th>\n",
              "      <th>Type of Location</th>\n",
              "      <th>Cell Phone Access</th>\n",
              "      <th>household_size</th>\n",
              "      <th>Respondent Age</th>\n",
              "      <th>gender_of_respondent</th>\n",
              "      <th>The relathip with head</th>\n",
              "      <th>marital_status</th>\n",
              "      <th>Level of Educuation</th>\n",
              "      <th>Type of Job</th>\n",
              "    </tr>\n",
              "  </thead>\n",
              "  <tbody>\n",
              "    <tr>\n",
              "      <th>23519</th>\n",
              "      <td>Uganda</td>\n",
              "      <td>2018</td>\n",
              "      <td>uniqueid_2113</td>\n",
              "      <td>No</td>\n",
              "      <td>Rural</td>\n",
              "      <td>Yes</td>\n",
              "      <td>4.0</td>\n",
              "      <td>48.0</td>\n",
              "      <td>Female</td>\n",
              "      <td>Head of Household</td>\n",
              "      <td>Divorced/Seperated</td>\n",
              "      <td>No formal education</td>\n",
              "      <td>Other Income</td>\n",
              "    </tr>\n",
              "    <tr>\n",
              "      <th>23520</th>\n",
              "      <td>Uganda</td>\n",
              "      <td>2018</td>\n",
              "      <td>uniqueid_2114</td>\n",
              "      <td>No</td>\n",
              "      <td>Rural</td>\n",
              "      <td>Yes</td>\n",
              "      <td>2.0</td>\n",
              "      <td>27.0</td>\n",
              "      <td>Female</td>\n",
              "      <td>Head of Household</td>\n",
              "      <td>Single/Never Married</td>\n",
              "      <td>Secondary education</td>\n",
              "      <td>Other Income</td>\n",
              "    </tr>\n",
              "    <tr>\n",
              "      <th>23521</th>\n",
              "      <td>Uganda</td>\n",
              "      <td>2018</td>\n",
              "      <td>uniqueid_2115</td>\n",
              "      <td>No</td>\n",
              "      <td>Rural</td>\n",
              "      <td>Yes</td>\n",
              "      <td>5.0</td>\n",
              "      <td>27.0</td>\n",
              "      <td>Female</td>\n",
              "      <td>Parent</td>\n",
              "      <td>Widowed</td>\n",
              "      <td>Primary education</td>\n",
              "      <td>Other Income</td>\n",
              "    </tr>\n",
              "    <tr>\n",
              "      <th>23522</th>\n",
              "      <td>Uganda</td>\n",
              "      <td>2018</td>\n",
              "      <td>uniqueid_2116</td>\n",
              "      <td>No</td>\n",
              "      <td>Urban</td>\n",
              "      <td>Yes</td>\n",
              "      <td>7.0</td>\n",
              "      <td>30.0</td>\n",
              "      <td>Female</td>\n",
              "      <td>Parent</td>\n",
              "      <td>Divorced/Seperated</td>\n",
              "      <td>Secondary education</td>\n",
              "      <td>Self employed</td>\n",
              "    </tr>\n",
              "    <tr>\n",
              "      <th>23523</th>\n",
              "      <td>Uganda</td>\n",
              "      <td>2018</td>\n",
              "      <td>uniqueid_2117</td>\n",
              "      <td>No</td>\n",
              "      <td>Rural</td>\n",
              "      <td>Yes</td>\n",
              "      <td>10.0</td>\n",
              "      <td>20.0</td>\n",
              "      <td>Male</td>\n",
              "      <td>Child</td>\n",
              "      <td>Single/Never Married</td>\n",
              "      <td>Secondary education</td>\n",
              "      <td>No Income</td>\n",
              "    </tr>\n",
              "  </tbody>\n",
              "</table>\n",
              "</div>"
            ],
            "text/plain": [
              "      country  year  ...  Level of Educuation    Type of Job\n",
              "23519  Uganda  2018  ...  No formal education   Other Income\n",
              "23520  Uganda  2018  ...  Secondary education   Other Income\n",
              "23521  Uganda  2018  ...    Primary education   Other Income\n",
              "23522  Uganda  2018  ...  Secondary education  Self employed\n",
              "23523  Uganda  2018  ...  Secondary education      No Income\n",
              "\n",
              "[5 rows x 13 columns]"
            ]
          },
          "metadata": {
            "tags": []
          },
          "execution_count": 557
        }
      ]
    },
    {
      "cell_type": "markdown",
      "metadata": {
        "id": "hEvjm6S6UThy"
      },
      "source": [
        "previewing top and bottom of our dataset make us to ensure the format is the same from top to the bottom."
      ]
    },
    {
      "cell_type": "code",
      "metadata": {
        "id": "B8MU-gN_kfCm",
        "outputId": "1da4a6ea-17d7-4548-b0d4-12967bebfa1a",
        "colab": {
          "base_uri": "https://localhost:8080/",
          "height": 265
        }
      },
      "source": [
        "#4e. Checking whether each column has an appropriate datatype\n",
        "#\n",
        "bank_df1.dtypes"
      ],
      "execution_count": 558,
      "outputs": [
        {
          "output_type": "execute_result",
          "data": {
            "text/plain": [
              "country                    object\n",
              "year                        int64\n",
              "uniqueid                   object\n",
              "Has a Bank account         object\n",
              "Type of Location           object\n",
              "Cell Phone Access          object\n",
              "household_size            float64\n",
              "Respondent Age            float64\n",
              "gender_of_respondent       object\n",
              "The relathip with head     object\n",
              "marital_status             object\n",
              "Level of Educuation        object\n",
              "Type of Job                object\n",
              "dtype: object"
            ]
          },
          "metadata": {
            "tags": []
          },
          "execution_count": 558
        }
      ]
    },
    {
      "cell_type": "markdown",
      "metadata": {
        "id": "_-UT5l49U6S7"
      },
      "source": [
        "the dataset has strings/objects, floats, and integers. this helps us when it comes to analysis."
      ]
    },
    {
      "cell_type": "markdown",
      "metadata": {
        "id": "1G-oYnIdjMg8"
      },
      "source": [
        "## 5. External Data Source Validation"
      ]
    },
    {
      "cell_type": "markdown",
      "metadata": {
        "id": "OxFhR3XVw8Y8"
      },
      "source": [
        "This is dataset was verified confirming with world bank data.\n",
        "\n",
        "world bank [link](https://data.worldbank.org/indicator/FX.OWN.TOTL.SO.ZS?locations=KE)"
      ]
    },
    {
      "cell_type": "markdown",
      "metadata": {
        "id": "Y3sjz5REjpi2"
      },
      "source": [
        "### a.Validation"
      ]
    },
    {
      "cell_type": "markdown",
      "metadata": {
        "id": "Ls-iVjueyfyF"
      },
      "source": [
        "the dataset is confirmed valid"
      ]
    },
    {
      "cell_type": "markdown",
      "metadata": {
        "id": "MNB92BO-l2f3"
      },
      "source": [
        "## 6. Tidying the dataset"
      ]
    },
    {
      "cell_type": "code",
      "metadata": {
        "id": "DiNPXs4no8ho",
        "outputId": "56f982b2-7bf1-44f6-80e8-d63445e9483c",
        "colab": {
          "base_uri": "https://localhost:8080/",
          "height": 87
        }
      },
      "source": [
        "#6.1a. Checking for Outliers\n",
        "#\n",
        "bank_df1.kurt()"
      ],
      "execution_count": 559,
      "outputs": [
        {
          "output_type": "execute_result",
          "data": {
            "text/plain": [
              "year              165.195071\n",
              "household_size      1.158154\n",
              "Respondent Age      0.101108\n",
              "dtype: float64"
            ]
          },
          "metadata": {
            "tags": []
          },
          "execution_count": 559
        }
      ]
    },
    {
      "cell_type": "markdown",
      "metadata": {
        "id": "WOQH2y1oOrWG"
      },
      "source": [
        "kurtis is greater than zero, this is high degree of peakedness thus there is outliers since it is leptpkutic kurtosis."
      ]
    },
    {
      "cell_type": "code",
      "metadata": {
        "id": "EitHI-E5L8MN",
        "outputId": "090b85ff-8b33-411f-9c0a-8c5ccf3664b7",
        "colab": {
          "base_uri": "https://localhost:8080/",
          "height": 283
        }
      },
      "source": [
        "#6.1b. checking outliers using matplotlib\n",
        "% matplotlib inline\n",
        "#\n",
        "bank_df1_matplotlib = bank_df.boxplot(column =['household_size', 'Respondent Age'], grid = False)\n",
        "bank_df1_matplotlib"
      ],
      "execution_count": 560,
      "outputs": [
        {
          "output_type": "execute_result",
          "data": {
            "text/plain": [
              "<matplotlib.axes._subplots.AxesSubplot at 0x7f58e97cf630>"
            ]
          },
          "metadata": {
            "tags": []
          },
          "execution_count": 560
        },
        {
          "output_type": "display_data",
          "data": {
            "image/png": "[encoded data removed]",
            "text/plain": [
              "<Figure size 432x288 with 1 Axes>"
            ]
          },
          "metadata": {
            "tags": [],
            "needs_background": "light"
          }
        }
      ]
    },
    {
      "cell_type": "markdown",
      "metadata": {
        "id": "au81C0o3OWNU"
      },
      "source": [
        "There is ouliers. however we will ignore them to avoid making our anaylsis biased."
      ]
    },
    {
      "cell_type": "code",
      "metadata": {
        "id": "FCl_FW7cpDww",
        "outputId": "9a32fd50-d961-4a77-a1c2-da73a472e584",
        "colab": {
          "base_uri": "https://localhost:8080/",
          "height": 34
        }
      },
      "source": [
        "#6.2 Checking for Anomalies\n",
        "#\n",
        "#checking for dublicates\n",
        "bank_df1.duplicated().any()"
      ],
      "execution_count": 561,
      "outputs": [
        {
          "output_type": "execute_result",
          "data": {
            "text/plain": [
              "False"
            ]
          },
          "metadata": {
            "tags": []
          },
          "execution_count": 561
        }
      ]
    },
    {
      "cell_type": "markdown",
      "metadata": {
        "id": "5Ig7pjWajBDV"
      },
      "source": [
        "There is no dublicates in this dataset."
      ]
    },
    {
      "cell_type": "code",
      "metadata": {
        "id": "ge1BvB5YpZhM",
        "outputId": "5ef9f6e1-9c99-4482-d4c0-36281e1066ae",
        "colab": {
          "base_uri": "https://localhost:8080/",
          "height": 265
        }
      },
      "source": [
        "#6.3a Identifying the Missing Data\n",
        "#\n",
        "bank_df1.isnull().sum()"
      ],
      "execution_count": 562,
      "outputs": [
        {
          "output_type": "execute_result",
          "data": {
            "text/plain": [
              "country                   14\n",
              "year                       0\n",
              "uniqueid                   0\n",
              "Has a Bank account        36\n",
              "Type of Location          15\n",
              "Cell Phone Access         11\n",
              "household_size            28\n",
              "Respondent Age            34\n",
              "gender_of_respondent      34\n",
              "The relathip with head     4\n",
              "marital_status            32\n",
              "Level of Educuation       29\n",
              "Type of Job               30\n",
              "dtype: int64"
            ]
          },
          "metadata": {
            "tags": []
          },
          "execution_count": 562
        }
      ]
    },
    {
      "cell_type": "markdown",
      "metadata": {
        "id": "KoUth-TOjUkH"
      },
      "source": [
        "There are missing values in country, has bank account, type of location, cell phone access, household size, respondent age, gender of respondent, the relationship with the head, marital status, level of education and type of job colunms. the total missing values is 267. \n",
        "\n",
        "100*267/23524 = 1.1% of the today popultion.. this can be dropped since they're insignifant."
      ]
    },
    {
      "cell_type": "code",
      "metadata": {
        "id": "cPkra9WEkBcR"
      },
      "source": [
        "#6.3b Data Cleaning Action:dropping all the missing values\n",
        "# Explanation:this ensures the data is complete and easy to manupulate\n",
        "#\n",
        "bank_df1.dropna(inplace=True)"
      ],
      "execution_count": 563,
      "outputs": []
    },
    {
      "cell_type": "code",
      "metadata": {
        "id": "S1IysZvYOPU5",
        "outputId": "ed899e3f-91ad-4f19-f93a-8ad1c50ad0a8",
        "colab": {
          "base_uri": "https://localhost:8080/",
          "height": 265
        }
      },
      "source": [
        "#6.3c. confirming all the missing values were dropped\n",
        "bank_df1.isnull().sum()"
      ],
      "execution_count": 564,
      "outputs": [
        {
          "output_type": "execute_result",
          "data": {
            "text/plain": [
              "country                   0\n",
              "year                      0\n",
              "uniqueid                  0\n",
              "Has a Bank account        0\n",
              "Type of Location          0\n",
              "Cell Phone Access         0\n",
              "household_size            0\n",
              "Respondent Age            0\n",
              "gender_of_respondent      0\n",
              "The relathip with head    0\n",
              "marital_status            0\n",
              "Level of Educuation       0\n",
              "Type of Job               0\n",
              "dtype: int64"
            ]
          },
          "metadata": {
            "tags": []
          },
          "execution_count": 564
        }
      ]
    },
    {
      "cell_type": "code",
      "metadata": {
        "id": "p7hbvGttQmj7",
        "outputId": "aeafb87e-c520-4134-fe0d-e341cbab5eb2",
        "colab": {
          "base_uri": "https://localhost:8080/",
          "height": 34
        }
      },
      "source": [
        "#6.3d Determining the no. of records in our dataset after dropping missing values\n",
        "bank_df1.shape"
      ],
      "execution_count": 565,
      "outputs": [
        {
          "output_type": "execute_result",
          "data": {
            "text/plain": [
              "(23343, 13)"
            ]
          },
          "metadata": {
            "tags": []
          },
          "execution_count": 565
        }
      ]
    },
    {
      "cell_type": "markdown",
      "metadata": {
        "id": "EL0yV88lQ8w4"
      },
      "source": [
        "clean dataset(bank_df1) has 23343 records (rows) and 13 features/variables(colunms)"
      ]
    },
    {
      "cell_type": "code",
      "metadata": {
        "id": "InxgDUcUpgSf",
        "outputId": "537e36e0-228b-448c-d1fc-7b254fa7d7a7",
        "colab": {
          "base_uri": "https://localhost:8080/",
          "height": 334
        }
      },
      "source": [
        "#6.4 More data cleaning procedures\n",
        "#renaming colunms\n",
        "bank_df1.rename(columns={\"country\tyear\":\"country_year\", \"Has a Bank account\": \"Has_a_bank_account\", \"Type of Location\":\"Type_of_Location\", \"Cell Phone Access\" : \"Cell_Phone_Access\", \"Respondent Age\": \"Respondent_Age\", \"The relathip with head\":\"The_relathip_with_head\", \"Level of Educuation\": \"Level_of _Educuation\", \"Type of Job\": \"Type_of_Job\"}, inplace=True)\n",
        "bank_df1.head()\n"
      ],
      "execution_count": 566,
      "outputs": [
        {
          "output_type": "execute_result",
          "data": {
            "text/html": [
              "<div>\n",
              "<style scoped>\n",
              "    .dataframe tbody tr th:only-of-type {\n",
              "        vertical-align: middle;\n",
              "    }\n",
              "\n",
              "    .dataframe tbody tr th {\n",
              "        vertical-align: top;\n",
              "    }\n",
              "\n",
              "    .dataframe thead th {\n",
              "        text-align: right;\n",
              "    }\n",
              "</style>\n",
              "<table border=\"1\" class=\"dataframe\">\n",
              "  <thead>\n",
              "    <tr style=\"text-align: right;\">\n",
              "      <th></th>\n",
              "      <th>country</th>\n",
              "      <th>year</th>\n",
              "      <th>uniqueid</th>\n",
              "      <th>Has_a_bank_account</th>\n",
              "      <th>Type_of_Location</th>\n",
              "      <th>Cell_Phone_Access</th>\n",
              "      <th>household_size</th>\n",
              "      <th>Respondent_Age</th>\n",
              "      <th>gender_of_respondent</th>\n",
              "      <th>The_relathip_with_head</th>\n",
              "      <th>marital_status</th>\n",
              "      <th>Level_of _Educuation</th>\n",
              "      <th>Type_of_Job</th>\n",
              "    </tr>\n",
              "  </thead>\n",
              "  <tbody>\n",
              "    <tr>\n",
              "      <th>0</th>\n",
              "      <td>Kenya</td>\n",
              "      <td>2018</td>\n",
              "      <td>uniqueid_1</td>\n",
              "      <td>Yes</td>\n",
              "      <td>Rural</td>\n",
              "      <td>Yes</td>\n",
              "      <td>3.0</td>\n",
              "      <td>24.0</td>\n",
              "      <td>Female</td>\n",
              "      <td>Spouse</td>\n",
              "      <td>Married/Living together</td>\n",
              "      <td>Secondary education</td>\n",
              "      <td>Self employed</td>\n",
              "    </tr>\n",
              "    <tr>\n",
              "      <th>1</th>\n",
              "      <td>Kenya</td>\n",
              "      <td>2018</td>\n",
              "      <td>uniqueid_2</td>\n",
              "      <td>No</td>\n",
              "      <td>Rural</td>\n",
              "      <td>No</td>\n",
              "      <td>5.0</td>\n",
              "      <td>70.0</td>\n",
              "      <td>Female</td>\n",
              "      <td>Head of Household</td>\n",
              "      <td>Widowed</td>\n",
              "      <td>No formal education</td>\n",
              "      <td>Government Dependent</td>\n",
              "    </tr>\n",
              "    <tr>\n",
              "      <th>2</th>\n",
              "      <td>Kenya</td>\n",
              "      <td>2018</td>\n",
              "      <td>uniqueid_3</td>\n",
              "      <td>Yes</td>\n",
              "      <td>Urban</td>\n",
              "      <td>Yes</td>\n",
              "      <td>5.0</td>\n",
              "      <td>26.0</td>\n",
              "      <td>Male</td>\n",
              "      <td>Other relative</td>\n",
              "      <td>Single/Never Married</td>\n",
              "      <td>Vocational/Specialised training</td>\n",
              "      <td>Self employed</td>\n",
              "    </tr>\n",
              "    <tr>\n",
              "      <th>3</th>\n",
              "      <td>Kenya</td>\n",
              "      <td>2018</td>\n",
              "      <td>uniqueid_4</td>\n",
              "      <td>No</td>\n",
              "      <td>Rural</td>\n",
              "      <td>Yes</td>\n",
              "      <td>5.0</td>\n",
              "      <td>34.0</td>\n",
              "      <td>Female</td>\n",
              "      <td>Head of Household</td>\n",
              "      <td>Married/Living together</td>\n",
              "      <td>Primary education</td>\n",
              "      <td>Formally employed Private</td>\n",
              "    </tr>\n",
              "    <tr>\n",
              "      <th>4</th>\n",
              "      <td>Kenya</td>\n",
              "      <td>2018</td>\n",
              "      <td>uniqueid_5</td>\n",
              "      <td>No</td>\n",
              "      <td>Urban</td>\n",
              "      <td>No</td>\n",
              "      <td>8.0</td>\n",
              "      <td>26.0</td>\n",
              "      <td>Male</td>\n",
              "      <td>Child</td>\n",
              "      <td>Single/Never Married</td>\n",
              "      <td>Primary education</td>\n",
              "      <td>Informally employed</td>\n",
              "    </tr>\n",
              "  </tbody>\n",
              "</table>\n",
              "</div>"
            ],
            "text/plain": [
              "  country  year  ...             Level_of _Educuation                Type_of_Job\n",
              "0   Kenya  2018  ...              Secondary education              Self employed\n",
              "1   Kenya  2018  ...              No formal education       Government Dependent\n",
              "2   Kenya  2018  ...  Vocational/Specialised training              Self employed\n",
              "3   Kenya  2018  ...                Primary education  Formally employed Private\n",
              "4   Kenya  2018  ...                Primary education        Informally employed\n",
              "\n",
              "[5 rows x 13 columns]"
            ]
          },
          "metadata": {
            "tags": []
          },
          "execution_count": 566
        }
      ]
    },
    {
      "cell_type": "markdown",
      "metadata": {
        "id": "X8zMmDQirnsT"
      },
      "source": [
        "## 7. Exploratory Data Analysis(EDA)"
      ]
    },
    {
      "cell_type": "markdown",
      "metadata": {
        "id": "2V9XQ_44QyL5"
      },
      "source": [
        "### Descriptive Data Analysis"
      ]
    },
    {
      "cell_type": "markdown",
      "metadata": {
        "id": "iBTvfhwHPdP9"
      },
      "source": [
        "Data Analysis can be divided into two:\n",
        "- **Univariate Analysis** - where you look at a single variable\n",
        "- **Bivariate Analysis** - where you look at how two variables relate with each other\n",
        "-**Multivariate Analysis**\n",
        "\n",
        "Before we do the analysis, it is helpful to formulate questions that would help us answer the research problem.\n",
        "\n",
        "**Research Question:** which factors influences opening bank account .\n",
        "\n",
        "**Guiding Questions:**\n",
        "- Which gender was the highest in opening bank account.\n",
        "-Which country had the highest bank account holder.\n",
        "\n"
      ]
    },
    {
      "cell_type": "markdown",
      "metadata": {
        "id": "G1Gc62Uzvfsg"
      },
      "source": [
        "### 8.0 Univariate Analysis"
      ]
    },
    {
      "cell_type": "code",
      "metadata": {
        "id": "4c0MkTDdTv1V",
        "outputId": "e185a886-ee8b-4541-cabe-54a8fce0bb14",
        "colab": {
          "base_uri": "https://localhost:8080/",
          "height": 287
        }
      },
      "source": [
        "#8.1checking univariate summaries for all dataset varaibles\n",
        "bank_df.describe()"
      ],
      "execution_count": 567,
      "outputs": [
        {
          "output_type": "execute_result",
          "data": {
            "text/html": [
              "<div>\n",
              "<style scoped>\n",
              "    .dataframe tbody tr th:only-of-type {\n",
              "        vertical-align: middle;\n",
              "    }\n",
              "\n",
              "    .dataframe tbody tr th {\n",
              "        vertical-align: top;\n",
              "    }\n",
              "\n",
              "    .dataframe thead th {\n",
              "        text-align: right;\n",
              "    }\n",
              "</style>\n",
              "<table border=\"1\" class=\"dataframe\">\n",
              "  <thead>\n",
              "    <tr style=\"text-align: right;\">\n",
              "      <th></th>\n",
              "      <th>year</th>\n",
              "      <th>household_size</th>\n",
              "      <th>Respondent_Age</th>\n",
              "    </tr>\n",
              "  </thead>\n",
              "  <tbody>\n",
              "    <tr>\n",
              "      <th>count</th>\n",
              "      <td>23343.000000</td>\n",
              "      <td>23343.000000</td>\n",
              "      <td>23343.000000</td>\n",
              "    </tr>\n",
              "    <tr>\n",
              "      <th>mean</th>\n",
              "      <td>2016.980594</td>\n",
              "      <td>3.688643</td>\n",
              "      <td>38.805509</td>\n",
              "    </tr>\n",
              "    <tr>\n",
              "      <th>std</th>\n",
              "      <td>0.901740</td>\n",
              "      <td>2.281184</td>\n",
              "      <td>16.519803</td>\n",
              "    </tr>\n",
              "    <tr>\n",
              "      <th>min</th>\n",
              "      <td>2016.000000</td>\n",
              "      <td>0.000000</td>\n",
              "      <td>16.000000</td>\n",
              "    </tr>\n",
              "    <tr>\n",
              "      <th>25%</th>\n",
              "      <td>2016.000000</td>\n",
              "      <td>2.000000</td>\n",
              "      <td>26.000000</td>\n",
              "    </tr>\n",
              "    <tr>\n",
              "      <th>50%</th>\n",
              "      <td>2017.000000</td>\n",
              "      <td>3.000000</td>\n",
              "      <td>35.000000</td>\n",
              "    </tr>\n",
              "    <tr>\n",
              "      <th>75%</th>\n",
              "      <td>2018.000000</td>\n",
              "      <td>5.000000</td>\n",
              "      <td>49.000000</td>\n",
              "    </tr>\n",
              "    <tr>\n",
              "      <th>max</th>\n",
              "      <td>2056.000000</td>\n",
              "      <td>21.000000</td>\n",
              "      <td>100.000000</td>\n",
              "    </tr>\n",
              "  </tbody>\n",
              "</table>\n",
              "</div>"
            ],
            "text/plain": [
              "               year  household_size  Respondent_Age\n",
              "count  23343.000000    23343.000000    23343.000000\n",
              "mean    2016.980594        3.688643       38.805509\n",
              "std        0.901740        2.281184       16.519803\n",
              "min     2016.000000        0.000000       16.000000\n",
              "25%     2016.000000        2.000000       26.000000\n",
              "50%     2017.000000        3.000000       35.000000\n",
              "75%     2018.000000        5.000000       49.000000\n",
              "max     2056.000000       21.000000      100.000000"
            ]
          },
          "metadata": {
            "tags": []
          },
          "execution_count": 567
        }
      ]
    },
    {
      "cell_type": "markdown",
      "metadata": {
        "id": "73makjnzUL9B"
      },
      "source": [
        "The summary statistics provide important information about the numerical variables such as their means, standard deviations, and so on."
      ]
    },
    {
      "cell_type": "code",
      "metadata": {
        "id": "xUIDKMCYUQwN",
        "outputId": "514ad623-7c84-4824-b060-a520946d70c1",
        "colab": {
          "base_uri": "https://localhost:8080/",
          "height": 34
        }
      },
      "source": [
        "#8.2 Finding the mean\n",
        "respondent_mean=bank_df1[\"Respondent_Age\"].mean()\n",
        "respondent_mean"
      ],
      "execution_count": 568,
      "outputs": [
        {
          "output_type": "execute_result",
          "data": {
            "text/plain": [
              "38.80550914621085"
            ]
          },
          "metadata": {
            "tags": []
          },
          "execution_count": 568
        }
      ]
    },
    {
      "cell_type": "markdown",
      "metadata": {
        "id": "fSyfQEI5debK"
      },
      "source": [
        "the respodent avarage age is 38year."
      ]
    },
    {
      "cell_type": "code",
      "metadata": {
        "id": "BleNQNOCcVp4",
        "outputId": "4b747350-1c5c-4799-de82-2cfe201425d4",
        "colab": {
          "base_uri": "https://localhost:8080/",
          "height": 34
        }
      },
      "source": [
        "#8.3 finding the median\n",
        "respondent_age_median=bank_df1[\"Respondent_Age\"].median()\n",
        "respondent_age_median"
      ],
      "execution_count": 569,
      "outputs": [
        {
          "output_type": "execute_result",
          "data": {
            "text/plain": [
              "35.0"
            ]
          },
          "metadata": {
            "tags": []
          },
          "execution_count": 569
        }
      ]
    },
    {
      "cell_type": "markdown",
      "metadata": {
        "id": "x6eg01aOfUWM"
      },
      "source": [
        "The respodent median age was 35year."
      ]
    },
    {
      "cell_type": "code",
      "metadata": {
        "id": "B2U9bTgcfgyV",
        "outputId": "5acbd699-4e1b-4a0b-ac0a-4a186bd8e3af",
        "colab": {
          "base_uri": "https://localhost:8080/",
          "height": 52
        }
      },
      "source": [
        "#8.4 finding the mode\n",
        "respondent_mode=bank_df1[\"Respondent_Age\"].mode()\n",
        "respondent_mode"
      ],
      "execution_count": 570,
      "outputs": [
        {
          "output_type": "execute_result",
          "data": {
            "text/plain": [
              "0    30.0\n",
              "dtype: float64"
            ]
          },
          "metadata": {
            "tags": []
          },
          "execution_count": 570
        }
      ]
    },
    {
      "cell_type": "markdown",
      "metadata": {
        "id": "CSqZfTpHf7Aq"
      },
      "source": [
        "the respondent mode age was 30years."
      ]
    },
    {
      "cell_type": "code",
      "metadata": {
        "id": "-kQim91UgEaV",
        "outputId": "4b97a2c3-ddcd-436e-80bb-aeb39aa9bb63",
        "colab": {
          "base_uri": "https://localhost:8080/",
          "height": 431
        }
      },
      "source": [
        "#8.5 finding the mean, median, max and min for the whole dataset\n",
        "bank_df1.describe(include=\"all\")"
      ],
      "execution_count": 571,
      "outputs": [
        {
          "output_type": "execute_result",
          "data": {
            "text/html": [
              "<div>\n",
              "<style scoped>\n",
              "    .dataframe tbody tr th:only-of-type {\n",
              "        vertical-align: middle;\n",
              "    }\n",
              "\n",
              "    .dataframe tbody tr th {\n",
              "        vertical-align: top;\n",
              "    }\n",
              "\n",
              "    .dataframe thead th {\n",
              "        text-align: right;\n",
              "    }\n",
              "</style>\n",
              "<table border=\"1\" class=\"dataframe\">\n",
              "  <thead>\n",
              "    <tr style=\"text-align: right;\">\n",
              "      <th></th>\n",
              "      <th>country</th>\n",
              "      <th>year</th>\n",
              "      <th>uniqueid</th>\n",
              "      <th>Has_a_bank_account</th>\n",
              "      <th>Type_of_Location</th>\n",
              "      <th>Cell_Phone_Access</th>\n",
              "      <th>household_size</th>\n",
              "      <th>Respondent_Age</th>\n",
              "      <th>gender_of_respondent</th>\n",
              "      <th>The_relathip_with_head</th>\n",
              "      <th>marital_status</th>\n",
              "      <th>Level_of _Educuation</th>\n",
              "      <th>Type_of_Job</th>\n",
              "    </tr>\n",
              "  </thead>\n",
              "  <tbody>\n",
              "    <tr>\n",
              "      <th>count</th>\n",
              "      <td>23343</td>\n",
              "      <td>23343.000000</td>\n",
              "      <td>23343</td>\n",
              "      <td>23343</td>\n",
              "      <td>23343</td>\n",
              "      <td>23343</td>\n",
              "      <td>23343.000000</td>\n",
              "      <td>23343.000000</td>\n",
              "      <td>23343</td>\n",
              "      <td>23343</td>\n",
              "      <td>23343</td>\n",
              "      <td>23343</td>\n",
              "      <td>23343</td>\n",
              "    </tr>\n",
              "    <tr>\n",
              "      <th>unique</th>\n",
              "      <td>4</td>\n",
              "      <td>NaN</td>\n",
              "      <td>8687</td>\n",
              "      <td>2</td>\n",
              "      <td>2</td>\n",
              "      <td>2</td>\n",
              "      <td>NaN</td>\n",
              "      <td>NaN</td>\n",
              "      <td>2</td>\n",
              "      <td>6</td>\n",
              "      <td>5</td>\n",
              "      <td>7</td>\n",
              "      <td>10</td>\n",
              "    </tr>\n",
              "    <tr>\n",
              "      <th>top</th>\n",
              "      <td>Rwanda</td>\n",
              "      <td>NaN</td>\n",
              "      <td>uniqueid_1715</td>\n",
              "      <td>No</td>\n",
              "      <td>Rural</td>\n",
              "      <td>Yes</td>\n",
              "      <td>NaN</td>\n",
              "      <td>NaN</td>\n",
              "      <td>Female</td>\n",
              "      <td>Head of Household</td>\n",
              "      <td>Married/Living together</td>\n",
              "      <td>Primary education</td>\n",
              "      <td>Self employed</td>\n",
              "    </tr>\n",
              "    <tr>\n",
              "      <th>freq</th>\n",
              "      <td>8684</td>\n",
              "      <td>NaN</td>\n",
              "      <td>4</td>\n",
              "      <td>20046</td>\n",
              "      <td>14264</td>\n",
              "      <td>17334</td>\n",
              "      <td>NaN</td>\n",
              "      <td>NaN</td>\n",
              "      <td>13767</td>\n",
              "      <td>12730</td>\n",
              "      <td>10700</td>\n",
              "      <td>12689</td>\n",
              "      <td>6361</td>\n",
              "    </tr>\n",
              "    <tr>\n",
              "      <th>mean</th>\n",
              "      <td>NaN</td>\n",
              "      <td>2016.980594</td>\n",
              "      <td>NaN</td>\n",
              "      <td>NaN</td>\n",
              "      <td>NaN</td>\n",
              "      <td>NaN</td>\n",
              "      <td>3.688643</td>\n",
              "      <td>38.805509</td>\n",
              "      <td>NaN</td>\n",
              "      <td>NaN</td>\n",
              "      <td>NaN</td>\n",
              "      <td>NaN</td>\n",
              "      <td>NaN</td>\n",
              "    </tr>\n",
              "    <tr>\n",
              "      <th>std</th>\n",
              "      <td>NaN</td>\n",
              "      <td>0.901740</td>\n",
              "      <td>NaN</td>\n",
              "      <td>NaN</td>\n",
              "      <td>NaN</td>\n",
              "      <td>NaN</td>\n",
              "      <td>2.281184</td>\n",
              "      <td>16.519803</td>\n",
              "      <td>NaN</td>\n",
              "      <td>NaN</td>\n",
              "      <td>NaN</td>\n",
              "      <td>NaN</td>\n",
              "      <td>NaN</td>\n",
              "    </tr>\n",
              "    <tr>\n",
              "      <th>min</th>\n",
              "      <td>NaN</td>\n",
              "      <td>2016.000000</td>\n",
              "      <td>NaN</td>\n",
              "      <td>NaN</td>\n",
              "      <td>NaN</td>\n",
              "      <td>NaN</td>\n",
              "      <td>0.000000</td>\n",
              "      <td>16.000000</td>\n",
              "      <td>NaN</td>\n",
              "      <td>NaN</td>\n",
              "      <td>NaN</td>\n",
              "      <td>NaN</td>\n",
              "      <td>NaN</td>\n",
              "    </tr>\n",
              "    <tr>\n",
              "      <th>25%</th>\n",
              "      <td>NaN</td>\n",
              "      <td>2016.000000</td>\n",
              "      <td>NaN</td>\n",
              "      <td>NaN</td>\n",
              "      <td>NaN</td>\n",
              "      <td>NaN</td>\n",
              "      <td>2.000000</td>\n",
              "      <td>26.000000</td>\n",
              "      <td>NaN</td>\n",
              "      <td>NaN</td>\n",
              "      <td>NaN</td>\n",
              "      <td>NaN</td>\n",
              "      <td>NaN</td>\n",
              "    </tr>\n",
              "    <tr>\n",
              "      <th>50%</th>\n",
              "      <td>NaN</td>\n",
              "      <td>2017.000000</td>\n",
              "      <td>NaN</td>\n",
              "      <td>NaN</td>\n",
              "      <td>NaN</td>\n",
              "      <td>NaN</td>\n",
              "      <td>3.000000</td>\n",
              "      <td>35.000000</td>\n",
              "      <td>NaN</td>\n",
              "      <td>NaN</td>\n",
              "      <td>NaN</td>\n",
              "      <td>NaN</td>\n",
              "      <td>NaN</td>\n",
              "    </tr>\n",
              "    <tr>\n",
              "      <th>75%</th>\n",
              "      <td>NaN</td>\n",
              "      <td>2018.000000</td>\n",
              "      <td>NaN</td>\n",
              "      <td>NaN</td>\n",
              "      <td>NaN</td>\n",
              "      <td>NaN</td>\n",
              "      <td>5.000000</td>\n",
              "      <td>49.000000</td>\n",
              "      <td>NaN</td>\n",
              "      <td>NaN</td>\n",
              "      <td>NaN</td>\n",
              "      <td>NaN</td>\n",
              "      <td>NaN</td>\n",
              "    </tr>\n",
              "    <tr>\n",
              "      <th>max</th>\n",
              "      <td>NaN</td>\n",
              "      <td>2056.000000</td>\n",
              "      <td>NaN</td>\n",
              "      <td>NaN</td>\n",
              "      <td>NaN</td>\n",
              "      <td>NaN</td>\n",
              "      <td>21.000000</td>\n",
              "      <td>100.000000</td>\n",
              "      <td>NaN</td>\n",
              "      <td>NaN</td>\n",
              "      <td>NaN</td>\n",
              "      <td>NaN</td>\n",
              "      <td>NaN</td>\n",
              "    </tr>\n",
              "  </tbody>\n",
              "</table>\n",
              "</div>"
            ],
            "text/plain": [
              "       country          year  ... Level_of _Educuation    Type_of_Job\n",
              "count    23343  23343.000000  ...                23343          23343\n",
              "unique       4           NaN  ...                    7             10\n",
              "top     Rwanda           NaN  ...    Primary education  Self employed\n",
              "freq      8684           NaN  ...                12689           6361\n",
              "mean       NaN   2016.980594  ...                  NaN            NaN\n",
              "std        NaN      0.901740  ...                  NaN            NaN\n",
              "min        NaN   2016.000000  ...                  NaN            NaN\n",
              "25%        NaN   2016.000000  ...                  NaN            NaN\n",
              "50%        NaN   2017.000000  ...                  NaN            NaN\n",
              "75%        NaN   2018.000000  ...                  NaN            NaN\n",
              "max        NaN   2056.000000  ...                  NaN            NaN\n",
              "\n",
              "[11 rows x 13 columns]"
            ]
          },
          "metadata": {
            "tags": []
          },
          "execution_count": 571
        }
      ]
    },
    {
      "cell_type": "markdown",
      "metadata": {
        "id": "Z60A8NoYgYGs"
      },
      "source": [
        "\n",
        "1.   maximum age of respodent was 100year.\n",
        "2.   minimum age of the respondent was 16years\n",
        "3.   the total number of respodent was 23343\n",
        "4.   maximum household size was 21\n",
        "5.   avarage household size was 3\n",
        "\n",
        "\n",
        "\n",
        "\n",
        "\n",
        "\n",
        "\n",
        "\n",
        "\n",
        "\n"
      ]
    },
    {
      "cell_type": "markdown",
      "metadata": {
        "id": "8YptqzuJiO25"
      },
      "source": [
        "### 8.3 Measures of Dispersion/Variability/Spread"
      ]
    },
    {
      "cell_type": "markdown",
      "metadata": {
        "id": "aAJQ3b933AgL"
      },
      "source": [
        "##8.3a Frequency table"
      ]
    },
    {
      "cell_type": "code",
      "metadata": {
        "id": "qTHQTlxIwiut",
        "outputId": "a1433e39-719b-48f4-cfd5-bc3ab39aefc6",
        "colab": {
          "base_uri": "https://localhost:8080/",
          "height": 70
        }
      },
      "source": [
        "#8.3b. Frequency table for colunm using the value counts() function.\n",
        "#\n",
        "bank_df1['Has_account'] = bank_df1['Has_a_bank_account']\n",
        "bank_df1['Has_account'] = bank_df1['Has_account'].replace(['No','Yes'],[0 , 1])\n",
        "bank_df1['Has_account']= bank_df1.apply(lambda x: int(x['Has_account']), axis = 1)\n",
        "#\n",
        "#respodent that has bank account summary\n",
        "#\n",
        "bank_df1[\"Has_account\"].value_counts(normalize=True)"
      ],
      "execution_count": 572,
      "outputs": [
        {
          "output_type": "execute_result",
          "data": {
            "text/plain": [
              "0    0.858759\n",
              "1    0.141241\n",
              "Name: Has_account, dtype: float64"
            ]
          },
          "metadata": {
            "tags": []
          },
          "execution_count": 572
        }
      ]
    },
    {
      "cell_type": "markdown",
      "metadata": {
        "id": "yrZRd4Brw_GX"
      },
      "source": [
        "those without account is the highest at about 84%"
      ]
    },
    {
      "cell_type": "code",
      "metadata": {
        "id": "HDvU1qSCxxwY",
        "outputId": "c3f7913d-679c-4a9c-d8cf-d8b9d4cc8a12",
        "colab": {
          "base_uri": "https://localhost:8080/",
          "height": 70
        }
      },
      "source": [
        "#8.3c. respodent based on gender summary\n",
        "bank_df1[\"gender_of_respondent\"].value_counts(normalize=True)"
      ],
      "execution_count": 573,
      "outputs": [
        {
          "output_type": "execute_result",
          "data": {
            "text/plain": [
              "Female    0.58977\n",
              "Male      0.41023\n",
              "Name: gender_of_respondent, dtype: float64"
            ]
          },
          "metadata": {
            "tags": []
          },
          "execution_count": 573
        }
      ]
    },
    {
      "cell_type": "markdown",
      "metadata": {
        "id": "XprjuKIryqud"
      },
      "source": [
        "58% were female and 41% male"
      ]
    },
    {
      "cell_type": "code",
      "metadata": {
        "id": "ddGqg2sZy461",
        "outputId": "f63feb71-501b-4df2-ab51-0fcfb3292cd2",
        "colab": {
          "base_uri": "https://localhost:8080/",
          "height": 70
        }
      },
      "source": [
        "#8.3d bank account  based on lacation\n",
        "bank_df1[\"Type_of_Location\"].value_counts(normalize=True)\n"
      ],
      "execution_count": 574,
      "outputs": [
        {
          "output_type": "execute_result",
          "data": {
            "text/plain": [
              "Rural    0.611061\n",
              "Urban    0.388939\n",
              "Name: Type_of_Location, dtype: float64"
            ]
          },
          "metadata": {
            "tags": []
          },
          "execution_count": 574
        }
      ]
    },
    {
      "cell_type": "markdown",
      "metadata": {
        "id": "4Q1COsJzzbST"
      },
      "source": [
        "rural was the highest at 61%"
      ]
    },
    {
      "cell_type": "code",
      "metadata": {
        "id": "I56wVaxfzqIk",
        "outputId": "9d131f7b-2f02-4a4f-9d9d-193bb075c526",
        "colab": {
          "base_uri": "https://localhost:8080/",
          "height": 105
        }
      },
      "source": [
        "#8.3e. bank account holder respodent based on country\n",
        "bank_df1[\"country\"].value_counts(normalize=True)"
      ],
      "execution_count": 575,
      "outputs": [
        {
          "output_type": "execute_result",
          "data": {
            "text/plain": [
              "Rwanda      0.372017\n",
              "Tanzania    0.278456\n",
              "Kenya       0.259778\n",
              "Uganda      0.089749\n",
              "Name: country, dtype: float64"
            ]
          },
          "metadata": {
            "tags": []
          },
          "execution_count": 575
        }
      ]
    },
    {
      "cell_type": "markdown",
      "metadata": {
        "id": "H7vbYocvz9s4"
      },
      "source": [
        "Randa was the highest\n",
        "\n",
        "1.   Rwanda had 37%\n",
        "2.   Tanzania 27%\n",
        "3.   Kenya 25%\n",
        "4.   Uganda 0.9%\n",
        "\n"
      ]
    },
    {
      "cell_type": "code",
      "metadata": {
        "id": "fRPo1SlS0gXN",
        "outputId": "9d3c58a9-f6dd-4832-db1a-5371d3643b75",
        "colab": {
          "base_uri": "https://localhost:8080/",
          "height": 158
        }
      },
      "source": [
        "#8.3f respodent based on level of education\n",
        "bank_df1[\"Level_of _Educuation\"].value_counts(normalize=True)"
      ],
      "execution_count": 576,
      "outputs": [
        {
          "output_type": "execute_result",
          "data": {
            "text/plain": [
              "Primary education                  0.543589\n",
              "No formal education                0.191364\n",
              "Secondary education                0.180225\n",
              "Tertiary education                 0.049008\n",
              "Vocational/Specialised training    0.034314\n",
              "6                                  0.001157\n",
              "Other/Dont know/RTA                0.000343\n",
              "Name: Level_of _Educuation, dtype: float64"
            ]
          },
          "metadata": {
            "tags": []
          },
          "execution_count": 576
        }
      ]
    },
    {
      "cell_type": "markdown",
      "metadata": {
        "id": "ytpVQpF409DP"
      },
      "source": [
        "\n",
        "\n",
        "1.   Primary education   54%\n",
        "2.   No formal education 19%\n",
        "3.   Secondary education   18%\n",
        "4.   Tertiary education     0.04%\n",
        "6.   Vocational/Specialised training 0.03%\n",
        "7.   6                                0.001%\n",
        "8.   other/dont know/rta              0.0003%\n",
        "\n"
      ]
    },
    {
      "cell_type": "markdown",
      "metadata": {
        "id": "UX4ThkOrv_-o"
      },
      "source": [
        "## *numerical variables*"
      ]
    },
    {
      "cell_type": "markdown",
      "metadata": {
        "id": "IbuDXK8w5gs_"
      },
      "source": [
        "###standant deviation"
      ]
    },
    {
      "cell_type": "code",
      "metadata": {
        "id": "wnD-P9YwiheZ",
        "outputId": "c1d4fb38-8ce2-4b6c-a09a-5222e9829e2d",
        "colab": {
          "base_uri": "https://localhost:8080/",
          "height": 34
        }
      },
      "source": [
        "#8.3g Finding the standard deviation\n",
        "respondent_age_std=bank_df1[\"Respondent_Age\"].std()\n",
        "respondent_age_std"
      ],
      "execution_count": 577,
      "outputs": [
        {
          "output_type": "execute_result",
          "data": {
            "text/plain": [
              "16.51980349804178"
            ]
          },
          "metadata": {
            "tags": []
          },
          "execution_count": 577
        }
      ]
    },
    {
      "cell_type": "markdown",
      "metadata": {
        "id": "fMr3zt9Dl06g"
      },
      "source": [
        "this is a low std, it means the data points are close to the mean."
      ]
    },
    {
      "cell_type": "code",
      "metadata": {
        "id": "IOtB-TxRlasV",
        "outputId": "0fa83796-aa10-4af1-cf17-72d60b74eda6",
        "colab": {
          "base_uri": "https://localhost:8080/",
          "height": 34
        }
      },
      "source": [
        "#8.3h Finding the standard deviation for the hoseholds\n",
        "household_size_std=bank_df1[\"household_size\"].std()\n",
        "household_size_std"
      ],
      "execution_count": 578,
      "outputs": [
        {
          "output_type": "execute_result",
          "data": {
            "text/plain": [
              "2.2811835250351495"
            ]
          },
          "metadata": {
            "tags": []
          },
          "execution_count": 578
        }
      ]
    },
    {
      "cell_type": "markdown",
      "metadata": {
        "id": "hfGovwsRlHBS"
      },
      "source": [
        "this is a low std, it means the data points are close to the mean."
      ]
    },
    {
      "cell_type": "markdown",
      "metadata": {
        "id": "2ZEclqNj6X-v"
      },
      "source": [
        "###variance"
      ]
    },
    {
      "cell_type": "code",
      "metadata": {
        "id": "5Krmsm7imbcB",
        "outputId": "7ffc14e0-73ec-4147-8b1b-87c5ea1ba45c",
        "colab": {
          "base_uri": "https://localhost:8080/",
          "height": 34
        }
      },
      "source": [
        "#8.3i Finding the variance of the respodent\n",
        "respodent_age_var=bank_df1[\"Respondent_Age\"].var()\n",
        "respodent_age_var"
      ],
      "execution_count": 579,
      "outputs": [
        {
          "output_type": "execute_result",
          "data": {
            "text/plain": [
              "272.90390761391353"
            ]
          },
          "metadata": {
            "tags": []
          },
          "execution_count": 579
        }
      ]
    },
    {
      "cell_type": "markdown",
      "metadata": {
        "id": "MG2GbzinntYS"
      },
      "source": [
        "the data have some very large dis-similarities amongst its members"
      ]
    },
    {
      "cell_type": "code",
      "metadata": {
        "id": "igfTXx-DnxBL",
        "outputId": "3201f172-a28a-4468-f1d1-98999ba7ed75",
        "colab": {
          "base_uri": "https://localhost:8080/",
          "height": 34
        }
      },
      "source": [
        "#8.3g Finding the variance of the household size\n",
        "household_size_var=bank_df1[\"household_size\"].var()\n",
        "household_size_var"
      ],
      "execution_count": 580,
      "outputs": [
        {
          "output_type": "execute_result",
          "data": {
            "text/plain": [
              "5.20379827489179"
            ]
          },
          "metadata": {
            "tags": []
          },
          "execution_count": 580
        }
      ]
    },
    {
      "cell_type": "markdown",
      "metadata": {
        "id": "MsnUpOBdoNNG"
      },
      "source": [
        "the variance of household size is small, this means the data have some very large similarities amongst its members"
      ]
    },
    {
      "cell_type": "markdown",
      "metadata": {
        "id": "RB0zbHtS6sPA"
      },
      "source": [
        "###Range"
      ]
    },
    {
      "cell_type": "code",
      "metadata": {
        "id": "IV8xygzqofCs",
        "outputId": "7579c367-50fc-4906-baab-fb8d0ec683cb",
        "colab": {
          "base_uri": "https://localhost:8080/",
          "height": 34
        }
      },
      "source": [
        "#8.3j. Finding the min and max values of the Respondent_Age\n",
        "Respondent_Age_max = bank_df1[\"Respondent_Age\"].max()\n",
        "Respondent_Age_min = bank_df1[\"Respondent_Age\"].min()\n",
        "# Calculating the range\n",
        "Respondent_Age_range = Respondent_Age_max-Respondent_Age_min\n",
        "Respondent_Age_range "
      ],
      "execution_count": 581,
      "outputs": [
        {
          "output_type": "execute_result",
          "data": {
            "text/plain": [
              "84.0"
            ]
          },
          "metadata": {
            "tags": []
          },
          "execution_count": 581
        }
      ]
    },
    {
      "cell_type": "markdown",
      "metadata": {
        "id": "9CV1GUvRpxdr"
      },
      "source": [
        "the range of the respodent age is 84years."
      ]
    },
    {
      "cell_type": "markdown",
      "metadata": {
        "id": "hhheDWc_7CfP"
      },
      "source": [
        "###Quantiles"
      ]
    },
    {
      "cell_type": "code",
      "metadata": {
        "id": "EYDV0rD5p98p",
        "outputId": "80566dfc-5d0b-4d20-dcf3-6ba9a2117bba",
        "colab": {
          "base_uri": "https://localhost:8080/",
          "height": 87
        }
      },
      "source": [
        "#8.3k. Finding the quantiles of the Respondent_Age\n",
        "#quartiles are values that divide your data into quarters provided data is sorted in an ascending order.\n",
        "bank_df1[\"Respondent_Age\"].quantile([0.25,0.5,0.75])"
      ],
      "execution_count": 582,
      "outputs": [
        {
          "output_type": "execute_result",
          "data": {
            "text/plain": [
              "0.25    26.0\n",
              "0.50    35.0\n",
              "0.75    49.0\n",
              "Name: Respondent_Age, dtype: float64"
            ]
          },
          "metadata": {
            "tags": []
          },
          "execution_count": 582
        }
      ]
    },
    {
      "cell_type": "markdown",
      "metadata": {
        "id": "Oz8isxpdqW00"
      },
      "source": [
        "\n",
        "1.   Q1 is 26 years.\n",
        "2.   Q2 is 35 years.\n",
        "3.   Q3 is 49 years.\n",
        "\n",
        "\n",
        "\n",
        "\n"
      ]
    },
    {
      "cell_type": "markdown",
      "metadata": {
        "id": "tk1D1Loh7aeI"
      },
      "source": [
        "###skewness"
      ]
    },
    {
      "cell_type": "code",
      "metadata": {
        "id": "1jSbVTB5rROJ",
        "outputId": "0dddd789-3d16-40da-f187-7aa899c436cc",
        "colab": {
          "base_uri": "https://localhost:8080/",
          "height": 34
        }
      },
      "source": [
        "# Determining the skeweness\n",
        "respodent_age_skew=bank_df1[\"Respondent_Age\"].skew()\n",
        "respodent_age_skew"
      ],
      "execution_count": 583,
      "outputs": [
        {
          "output_type": "execute_result",
          "data": {
            "text/plain": [
              "0.840661747532081"
            ]
          },
          "metadata": {
            "tags": []
          },
          "execution_count": 583
        }
      ]
    },
    {
      "cell_type": "markdown",
      "metadata": {
        "id": "H8ymTvBhr5Rf"
      },
      "source": [
        "A positive value means the distribution is positively skewed. the mean is greater than the mode."
      ]
    },
    {
      "cell_type": "code",
      "metadata": {
        "id": "CRfy_kCisnzZ",
        "outputId": "3512d5a5-6826-4543-9b78-d91d71ab3bca",
        "colab": {
          "base_uri": "https://localhost:8080/",
          "height": 34
        }
      },
      "source": [
        "# Determining the skeweness \n",
        "respodent_age_kurt=bank_df1[\"Respondent_Age\"].kurt()\n",
        "respodent_age_kurt\n"
      ],
      "execution_count": 584,
      "outputs": [
        {
          "output_type": "execute_result",
          "data": {
            "text/plain": [
              "0.09844652254807196"
            ]
          },
          "metadata": {
            "tags": []
          },
          "execution_count": 584
        }
      ]
    },
    {
      "cell_type": "markdown",
      "metadata": {
        "id": "cGTTSDprtGj7"
      },
      "source": [
        "This is leptokurtic kurtosis isnce kurtosis is greater than zero (kurtosis>0). the tail of distribution is heavy. this means the outlier is present."
      ]
    },
    {
      "cell_type": "code",
      "metadata": {
        "id": "uxq_TowFt9Xs",
        "outputId": "3d0ede60-5ca8-4b86-957c-970791685302",
        "colab": {
          "base_uri": "https://localhost:8080/",
          "height": 176
        }
      },
      "source": [
        "#Displaying the summary statistics of the dataframe\n",
        "respodent_age_summary=bank_df1[\"Respondent_Age\"].describe()\n",
        "respodent_age_summary"
      ],
      "execution_count": 585,
      "outputs": [
        {
          "output_type": "execute_result",
          "data": {
            "text/plain": [
              "count    23343.000000\n",
              "mean        38.805509\n",
              "std         16.519803\n",
              "min         16.000000\n",
              "25%         26.000000\n",
              "50%         35.000000\n",
              "75%         49.000000\n",
              "max        100.000000\n",
              "Name: Respondent_Age, dtype: float64"
            ]
          },
          "metadata": {
            "tags": []
          },
          "execution_count": 585
        }
      ]
    },
    {
      "cell_type": "markdown",
      "metadata": {
        "id": "qZmzV0wQuQWo"
      },
      "source": [
        "this just give the information of already discussed above."
      ]
    },
    {
      "cell_type": "markdown",
      "metadata": {
        "id": "Mb8UzUIu4CVn"
      },
      "source": [
        "## Visualisation Techniques"
      ]
    },
    {
      "cell_type": "markdown",
      "metadata": {
        "id": "D06WuVih7wFO"
      },
      "source": [
        "###Bar plot"
      ]
    },
    {
      "cell_type": "code",
      "metadata": {
        "id": "iszar50O34Jn",
        "outputId": "aaabdb12-6abc-4808-9110-10cc84e0a18c",
        "colab": {
          "base_uri": "https://localhost:8080/",
          "height": 404
        }
      },
      "source": [
        "# create a bar plot of the 'gender_of_respondent' variable\n",
        "plt.figure(figsize = (8, 6))\n",
        "bank_df1.gender_of_respondent.value_counts().plot(kind = 'bar', rot = 0)\n",
        "plt.xlabel('gender')\n",
        "plt.title('Distribution of gender type')\n",
        "plt.show()"
      ],
      "execution_count": 586,
      "outputs": [
        {
          "output_type": "display_data",
          "data": {
            "image/png": "[encoded data removed]",
            "text/plain": [
              "<Figure size 576x432 with 1 Axes>"
            ]
          },
          "metadata": {
            "tags": [],
            "needs_background": "light"
          }
        }
      ]
    },
    {
      "cell_type": "code",
      "metadata": {
        "id": "K5L3PGOlCa75",
        "outputId": "e7a898d0-8b7f-45ff-874f-2725e57aca8b",
        "colab": {
          "base_uri": "https://localhost:8080/",
          "height": 70
        }
      },
      "source": [
        "# get the value counts of the 'gender_of_respondent' variable\n",
        "bank_df.gender_of_respondent.value_counts()"
      ],
      "execution_count": 587,
      "outputs": [
        {
          "output_type": "execute_result",
          "data": {
            "text/plain": [
              "Female    13767\n",
              "Male       9576\n",
              "Name: gender_of_respondent, dtype: int64"
            ]
          },
          "metadata": {
            "tags": []
          },
          "execution_count": 587
        }
      ]
    },
    {
      "cell_type": "markdown",
      "metadata": {
        "id": "r9RKSwdxDIPs"
      },
      "source": [
        "female are the highest."
      ]
    },
    {
      "cell_type": "markdown",
      "metadata": {
        "id": "izzIGe4N8ODb"
      },
      "source": [
        "###Histogram"
      ]
    },
    {
      "cell_type": "code",
      "metadata": {
        "id": "MBP9ini7_cOe",
        "outputId": "e304d02b-6af8-4e17-f8cf-82e5ce25a9d6",
        "colab": {
          "base_uri": "https://localhost:8080/",
          "height": 294
        }
      },
      "source": [
        "#creating histogram\n",
        "respodent_age = bank_df1['Respondent_Age']\n",
        "\n",
        "plt.hist(respodent_age, bins=15, histtype='bar', rwidth=0.9)\n",
        "plt.xlabel('Age')\n",
        "plt.ylabel('No. of respodents ')\n",
        "plt.title('Histogram of age vs number of respodent')\n",
        "plt.show()"
      ],
      "execution_count": 588,
      "outputs": [
        {
          "output_type": "display_data",
          "data": {
            "image/png": "[encoded data removed]",
            "text/plain": [
              "<Figure size 432x288 with 1 Axes>"
            ]
          },
          "metadata": {
            "tags": [],
            "needs_background": "light"
          }
        }
      ]
    },
    {
      "cell_type": "code",
      "metadata": {
        "id": "ahNmD2R2Dcb8",
        "outputId": "111e63fd-62a2-418f-ef65-65c82ffd7728",
        "colab": {
          "base_uri": "https://localhost:8080/",
          "height": 230
        }
      },
      "source": [
        "# get the value counts of the 'gender_of_respondent' variable\n",
        "bank_df1.Respondent_Age.value_counts()"
      ],
      "execution_count": 589,
      "outputs": [
        {
          "output_type": "execute_result",
          "data": {
            "text/plain": [
              "30.0     1043\n",
              "35.0      831\n",
              "25.0      785\n",
              "28.0      742\n",
              "32.0      707\n",
              "         ... \n",
              "100.0       5\n",
              "93.0        4\n",
              "96.0        3\n",
              "99.0        2\n",
              "97.0        1\n",
              "Name: Respondent_Age, Length: 85, dtype: int64"
            ]
          },
          "metadata": {
            "tags": []
          },
          "execution_count": 589
        }
      ]
    },
    {
      "cell_type": "markdown",
      "metadata": {
        "id": "_se7X3G3D6J7"
      },
      "source": [
        "respodents aged 30 years are the highest."
      ]
    },
    {
      "cell_type": "markdown",
      "metadata": {
        "id": "YVVyMVuy8Z3o"
      },
      "source": [
        "###box plot"
      ]
    },
    {
      "cell_type": "code",
      "metadata": {
        "id": "8R6omtqPEMRY",
        "outputId": "17c81243-b995-42e8-9099-85eaa01c3f08",
        "colab": {
          "base_uri": "https://localhost:8080/",
          "height": 353
        }
      },
      "source": [
        "#box plot\n",
        "\n",
        "sns.boxplot(bank_df1[\"Respondent_Age\"], showmeans=True)"
      ],
      "execution_count": 590,
      "outputs": [
        {
          "output_type": "stream",
          "text": [
            "/usr/local/lib/python3.6/dist-packages/seaborn/_decorators.py:43: FutureWarning: Pass the following variable as a keyword arg: x. From version 0.12, the only valid positional argument will be `data`, and passing other arguments without an explicit keyword will result in an error or misinterpretation.\n",
            "  FutureWarning\n"
          ],
          "name": "stderr"
        },
        {
          "output_type": "execute_result",
          "data": {
            "text/plain": [
              "<matplotlib.axes._subplots.AxesSubplot at 0x7f58e93fb320>"
            ]
          },
          "metadata": {
            "tags": []
          },
          "execution_count": 590
        },
        {
          "output_type": "display_data",
          "data": {
            "image/png": "[encoded data removed]",
            "text/plain": [
              "<Figure size 432x288 with 1 Axes>"
            ]
          },
          "metadata": {
            "tags": [],
            "needs_background": "light"
          }
        }
      ]
    },
    {
      "cell_type": "markdown",
      "metadata": {
        "id": "8LxhmH_TE80I"
      },
      "source": [
        "shows outliers"
      ]
    },
    {
      "cell_type": "markdown",
      "metadata": {
        "id": "o96qWpo48fhz"
      },
      "source": [
        "### Pie chart"
      ]
    },
    {
      "cell_type": "code",
      "metadata": {
        "id": "d6fuPPKzFh-F",
        "outputId": "9a0e0f6f-97a9-455c-cad3-391036ea3416",
        "colab": {
          "base_uri": "https://localhost:8080/",
          "height": 373
        }
      },
      "source": [
        "#creating pie chart for the country\n",
        "\n",
        "plt.figure(figsize = (8, 6))\n",
        "bank_df1.country.value_counts().plot(kind = 'pie', autopct = '%1.1f%%')\n",
        "plt.title('Distribution of respodent')\n",
        "plt.show()"
      ],
      "execution_count": 591,
      "outputs": [
        {
          "output_type": "display_data",
          "data": {
            "image/png": "[encoded data removed]",
            "text/plain": [
              "<Figure size 576x432 with 1 Axes>"
            ]
          },
          "metadata": {
            "tags": []
          }
        }
      ]
    },
    {
      "cell_type": "code",
      "metadata": {
        "id": "ws3ZLV0HGcE8",
        "outputId": "49718076-93d2-404a-b864-ad2b06f373f4",
        "colab": {
          "base_uri": "https://localhost:8080/",
          "height": 105
        }
      },
      "source": [
        "bank_df1.country.value_counts()"
      ],
      "execution_count": 592,
      "outputs": [
        {
          "output_type": "execute_result",
          "data": {
            "text/plain": [
              "Rwanda      8684\n",
              "Tanzania    6500\n",
              "Kenya       6064\n",
              "Uganda      2095\n",
              "Name: country, dtype: int64"
            ]
          },
          "metadata": {
            "tags": []
          },
          "execution_count": 592
        }
      ]
    },
    {
      "cell_type": "markdown",
      "metadata": {
        "id": "NuGcvtGTGe-U"
      },
      "source": [
        "Tanzania has the highest."
      ]
    },
    {
      "cell_type": "markdown",
      "metadata": {
        "id": "AA8_6qN7FH3u"
      },
      "source": [
        "##recomendations\n"
      ]
    },
    {
      "cell_type": "markdown",
      "metadata": {
        "id": "XAKtTUr28p6U"
      },
      "source": [
        "more women has bank account thus it is superative for more awareness for the people to know the importance of the bank account."
      ]
    },
    {
      "cell_type": "markdown",
      "metadata": {
        "id": "EXIk5jMxvrb4"
      },
      "source": [
        "## 9.0 Bivariate Analysis"
      ]
    },
    {
      "cell_type": "markdown",
      "metadata": {
        "id": "_i41roXS9SOA"
      },
      "source": [
        "###Scatter plot"
      ]
    },
    {
      "cell_type": "code",
      "metadata": {
        "id": "HVs1JdoMJ6Ju",
        "outputId": "9f764302-2678-4ee3-db45-1f622303e812",
        "colab": {
          "base_uri": "https://localhost:8080/",
          "height": 294
        }
      },
      "source": [
        "# Plotting our scatterplot\n",
        "plt.scatter(bank_df1['Respondent_Age'], bank_df1['Respondent_Age'])\n",
        "\n",
        "# Giving our scatterplot a title\n",
        "plt.title('household size Vs age')\n",
        "\n",
        "# Labelling our x axis\n",
        "plt.xlabel('Household size')\n",
        "\n",
        "# Labelling our y axis\n",
        "plt.ylabel('age')\n",
        "\n",
        "# Displaying our scatterplot\n",
        "plt.show()"
      ],
      "execution_count": 593,
      "outputs": [
        {
          "output_type": "display_data",
          "data": {
            "image/png": "[encoded data removed]",
            "text/plain": [
              "<Figure size 432x288 with 1 Axes>"
            ]
          },
          "metadata": {
            "tags": [],
            "needs_background": "light"
          }
        }
      ]
    },
    {
      "cell_type": "markdown",
      "metadata": {
        "id": "bfIoVWBwLNtZ"
      },
      "source": [
        "The scatterplot graph shows that the variable household size is strongly correlated to the respodent age .\n",
        "\n",
        "This is because as the household size increases, the rspondent age also increases."
      ]
    },
    {
      "cell_type": "markdown",
      "metadata": {
        "id": "r49a08el9aTf"
      },
      "source": [
        "###Line graph"
      ]
    },
    {
      "cell_type": "code",
      "metadata": {
        "id": "D3qZQb_eMLob",
        "outputId": "eb682051-19a6-4c5c-f6e2-b1b4ec541c21",
        "colab": {
          "base_uri": "https://localhost:8080/",
          "height": 300
        }
      },
      "source": [
        "# plotting line chart\n",
        "#\n",
        "\n",
        "# Plotting our line graph\n",
        "bank_df1[[\"Respondent_Age\"]].plot()\n",
        "\n",
        "# Giving a title to our line graph\n",
        "plt.title(\"respondent age group\", fontsize=14, y=1.015)\n",
        "\n",
        "# Labelling the y-axis\n",
        "plt.ylabel('age')\n",
        "\n",
        "# Labelling the x-axis\n",
        "plt.xlabel('no of respondents')\n",
        "\n",
        "# Displaying our graph\n",
        "plt.show()\n"
      ],
      "execution_count": 594,
      "outputs": [
        {
          "output_type": "display_data",
          "data": {
            "image/png": "[encoded data removed]",
            "text/plain": [
              "<Figure size 432x288 with 1 Axes>"
            ]
          },
          "metadata": {
            "tags": [],
            "needs_background": "light"
          }
        }
      ]
    },
    {
      "cell_type": "markdown",
      "metadata": {
        "id": "UyBeeeV_X1Xr"
      },
      "source": [
        "note: can't draw line graph due to the nature o data given"
      ]
    },
    {
      "cell_type": "code",
      "metadata": {
        "id": "9AqR5I0MaXjb"
      },
      "source": [
        "#a.coverting categorical has account colunms to numerical/integer.\n",
        "#\n",
        "bank_df1['Has_account'] = bank_df1['Has_a_bank_account']\n",
        "bank_df1['Has_account'] = bank_df1['Has_account'].replace(['No','Yes'],[0 , 1])\n",
        "bank_df1['Has_account']= bank_df1.apply(lambda x: int(x['Has_account']), axis = 1)\n",
        "#\n",
        "#b. converting categorical country colunm to numerical/integer\n",
        "bank_df1['respondent_country'] = bank_df1['country']\n",
        "bank_df1['respondent_country'] = bank_df1['respondent_country'].replace(['Kenya','Uganda', \"Tanzania\", \"Rwanda\"],[0 , 1,3,4])\n",
        "bank_df1['respondent_country']= bank_df1.apply(lambda x: int(x['respondent_country']), axis = 1)\n",
        "#converting categorical cell_phone_access colunm to numerical/integer\n",
        "bank_df1['phone_access'] = bank_df1['Cell_Phone_Access']\n",
        "bank_df1['phone_access'] = bank_df1['phone_access'].replace(['No','Yes'],[0 , 1])\n",
        "bank_df1['phone_access']= bank_df1.apply(lambda x: int(x['phone_access']), axis = 1)\n",
        "#\n",
        "#converting categorical gender_of_respondent colunm to numerical/integer\n",
        "bank_df1['respodent_gender'] = bank_df1['gender_of_respondent']\n",
        "bank_df1['respodent_gender'] = bank_df1['respodent_gender'].replace(['Female','Male'],[0 , 1])\n",
        "bank_df1['respodent_gender']= bank_df1.apply(lambda x: int(x['respodent_gender']), axis = 1)\n",
        "#\n",
        "#converting categorical Type_of_Location colunm to numerical/integer\n",
        "bank_df1['location'] = bank_df1['Type_of_Location']\n",
        "bank_df1['location'] = bank_df1['location'].replace(['Rural','Urban'],[0 , 1])\n",
        "bank_df1['location']= bank_df1.apply(lambda x: int(x['location']), axis = 1)\n",
        "#\n",
        "#converting categorical The_relathip_with_head colunm to numerical/integer\n",
        "bank_df1['relationship'] = bank_df1['The_relathip_with_head']\n",
        "bank_df1['relationship'] = bank_df1['relationship'].replace(['Head of Household','Spouse', 'Child','Parent','Other relative', 'Other non-relatives'],[0 ,1,2,3,4,5])\n",
        "bank_df1['relationship']= bank_df1.apply(lambda x: int(x['relationship']), axis = 1)\n",
        "#\n",
        "#converting categorical marital_status colunm to numerical/integer\n",
        "bank_df1['marital_status_1'] = bank_df1['marital_status']\n",
        "bank_df1['marital_status_1'] = bank_df1['marital_status_1'].replace(['Married/Living together','Single/Never Married', 'Widowed','Divorced/Seperated','Dont know'],[0 ,1,2,3,4])\n",
        "bank_df1['marital_status_1']= bank_df1.apply(lambda x: int(x['relationship']), axis = 1)\n",
        "#\n",
        "#converting categorical Level_of _Educuation colunm to numerical/integer\n",
        "bank_df1['education_level'] = bank_df1['Level_of _Educuation']\n",
        "bank_df1['education_level'] = bank_df1['education_level'].replace(['Primary education','No formal education', 'Secondary education','Tertiary education','Vocational/Specialised training','6','Other/Dont know/RTA'],[0 ,1,2,3,4,5,6])\n",
        "bank_df1['education_level']= bank_df1.apply(lambda x: int(x['relationship']), axis = 1)\n",
        "#\n",
        "#converting categorical Type_of_Job colunm to numerical/integer\n",
        "bank_df1['job_type'] = bank_df1['Type_of_Job']\n",
        "bank_df1['job_type'] = bank_df1['job_type'].replace(['Self employed','Informally employed', 'Farming and Fishing','Remittance Dependent','Other Income','Formally employed Private','No Income','Formally employed Government','Government Dependent','Dont Know/Refuse to answer' ],[0 ,1,2,3,4,5,6,7,8,9])\n",
        "bank_df1['job_type']= bank_df1.apply(lambda x: int(x['relationship']), axis = 1)"
      ],
      "execution_count": 595,
      "outputs": []
    },
    {
      "cell_type": "markdown",
      "metadata": {
        "id": "bjOqSGkY21vK"
      },
      "source": [
        "converting categorical colunms to integer help us to carry out observation"
      ]
    },
    {
      "cell_type": "markdown",
      "metadata": {
        "id": "VsNHhjjWM1RW"
      },
      "source": [
        "###Bivariate summeries"
      ]
    },
    {
      "cell_type": "markdown",
      "metadata": {
        "id": "2VWQ2K5n-L8W"
      },
      "source": [
        "####pairplot"
      ]
    },
    {
      "cell_type": "code",
      "metadata": {
        "id": "uPWLYXEc2qzS",
        "outputId": "3bbf8a36-6a15-4da6-dd96-1480cc0f22fe",
        "colab": {
          "base_uri": "https://localhost:8080/",
          "height": 1000
        }
      },
      "source": [
        "# Ploting the bivariate summaries and recording our observations\n",
        "sns.pairplot(bank_df1)\n",
        "plt.show()"
      ],
      "execution_count": 596,
      "outputs": [
        {
          "output_type": "display_data",
          "data": {
            "image/png": "[encoded data removed]",
            "text/plain": [
              "<Figure size 2160x2160 with 156 Axes>"
            ]
          },
          "metadata": {
            "tags": [],
            "needs_background": "light"
          }
        }
      ]
    },
    {
      "cell_type": "markdown",
      "metadata": {
        "id": "BdeHiBe6-FnG"
      },
      "source": [
        "####heatmap"
      ]
    },
    {
      "cell_type": "code",
      "metadata": {
        "id": "lOvYlL_bYA4l",
        "outputId": "429ba861-744c-4dc7-fcd8-66a52f6af26a",
        "colab": {
          "base_uri": "https://localhost:8080/",
          "height": 654
        }
      },
      "source": [
        "# create a heatmap of the correlations of the variables in the dataset\n",
        "#\n",
        "plt.figure(figsize=(10,10))\n",
        "sns.heatmap(bank_df1.corr(), annot=True, square=True) "
      ],
      "execution_count": 597,
      "outputs": [
        {
          "output_type": "execute_result",
          "data": {
            "text/plain": [
              "<matplotlib.axes._subplots.AxesSubplot at 0x7f58f9f82668>"
            ]
          },
          "metadata": {
            "tags": []
          },
          "execution_count": 597
        },
        {
          "output_type": "display_data",
          "data": {
            "image/png": "[encoded data removed]",
            "text/plain": [
              "<Figure size 720x720 with 2 Axes>"
            ]
          },
          "metadata": {
            "tags": [],
            "needs_background": "light"
          }
        }
      ]
    },
    {
      "cell_type": "markdown",
      "metadata": {
        "id": "EHuud-79zvb9"
      },
      "source": [
        "there is a strong positive correlation between the level of education and job type.\n",
        "\n",
        "there is a week postive correction between the corespondent age and Has account. thus there is no relationship between the two.\n",
        "\n",
        "there is a strong positive correlation between marital status and job type as well as relationship."
      ]
    },
    {
      "cell_type": "markdown",
      "metadata": {
        "id": "0efV4OhKWpGj"
      },
      "source": [
        "##bivariance variable analysis"
      ]
    },
    {
      "cell_type": "code",
      "metadata": {
        "id": "iWQryBu5UXOC",
        "outputId": "db58abef-641d-4210-bda4-060452193bc9",
        "colab": {
          "base_uri": "https://localhost:8080/",
          "height": 126
        }
      },
      "source": [
        "#bivariate summary\n",
        "#\n",
        "#preview of average respodent age for the bank account holder\n",
        "\n",
        "bank_df1.pivot_table(values='Has_account', columns='Respondent_Age', aggfunc='mean')"
      ],
      "execution_count": 598,
      "outputs": [
        {
          "output_type": "execute_result",
          "data": {
            "text/html": [
              "<div>\n",
              "<style scoped>\n",
              "    .dataframe tbody tr th:only-of-type {\n",
              "        vertical-align: middle;\n",
              "    }\n",
              "\n",
              "    .dataframe tbody tr th {\n",
              "        vertical-align: top;\n",
              "    }\n",
              "\n",
              "    .dataframe thead th {\n",
              "        text-align: right;\n",
              "    }\n",
              "</style>\n",
              "<table border=\"1\" class=\"dataframe\">\n",
              "  <thead>\n",
              "    <tr style=\"text-align: right;\">\n",
              "      <th>Respondent_Age</th>\n",
              "      <th>16.0</th>\n",
              "      <th>17.0</th>\n",
              "      <th>18.0</th>\n",
              "      <th>19.0</th>\n",
              "      <th>20.0</th>\n",
              "      <th>21.0</th>\n",
              "      <th>22.0</th>\n",
              "      <th>23.0</th>\n",
              "      <th>24.0</th>\n",
              "      <th>25.0</th>\n",
              "      <th>26.0</th>\n",
              "      <th>27.0</th>\n",
              "      <th>28.0</th>\n",
              "      <th>29.0</th>\n",
              "      <th>30.0</th>\n",
              "      <th>31.0</th>\n",
              "      <th>32.0</th>\n",
              "      <th>33.0</th>\n",
              "      <th>34.0</th>\n",
              "      <th>35.0</th>\n",
              "      <th>36.0</th>\n",
              "      <th>37.0</th>\n",
              "      <th>38.0</th>\n",
              "      <th>39.0</th>\n",
              "      <th>40.0</th>\n",
              "      <th>41.0</th>\n",
              "      <th>42.0</th>\n",
              "      <th>43.0</th>\n",
              "      <th>44.0</th>\n",
              "      <th>45.0</th>\n",
              "      <th>46.0</th>\n",
              "      <th>47.0</th>\n",
              "      <th>48.0</th>\n",
              "      <th>49.0</th>\n",
              "      <th>50.0</th>\n",
              "      <th>51.0</th>\n",
              "      <th>52.0</th>\n",
              "      <th>53.0</th>\n",
              "      <th>54.0</th>\n",
              "      <th>55.0</th>\n",
              "      <th>...</th>\n",
              "      <th>61.0</th>\n",
              "      <th>62.0</th>\n",
              "      <th>63.0</th>\n",
              "      <th>64.0</th>\n",
              "      <th>65.0</th>\n",
              "      <th>66.0</th>\n",
              "      <th>67.0</th>\n",
              "      <th>68.0</th>\n",
              "      <th>69.0</th>\n",
              "      <th>70.0</th>\n",
              "      <th>71.0</th>\n",
              "      <th>72.0</th>\n",
              "      <th>73.0</th>\n",
              "      <th>74.0</th>\n",
              "      <th>75.0</th>\n",
              "      <th>76.0</th>\n",
              "      <th>77.0</th>\n",
              "      <th>78.0</th>\n",
              "      <th>79.0</th>\n",
              "      <th>80.0</th>\n",
              "      <th>81.0</th>\n",
              "      <th>82.0</th>\n",
              "      <th>83.0</th>\n",
              "      <th>84.0</th>\n",
              "      <th>85.0</th>\n",
              "      <th>86.0</th>\n",
              "      <th>87.0</th>\n",
              "      <th>88.0</th>\n",
              "      <th>89.0</th>\n",
              "      <th>90.0</th>\n",
              "      <th>91.0</th>\n",
              "      <th>92.0</th>\n",
              "      <th>93.0</th>\n",
              "      <th>94.0</th>\n",
              "      <th>95.0</th>\n",
              "      <th>96.0</th>\n",
              "      <th>97.0</th>\n",
              "      <th>98.0</th>\n",
              "      <th>99.0</th>\n",
              "      <th>100.0</th>\n",
              "    </tr>\n",
              "  </thead>\n",
              "  <tbody>\n",
              "    <tr>\n",
              "      <th>Has_account</th>\n",
              "      <td>0.01087</td>\n",
              "      <td>0.021097</td>\n",
              "      <td>0.036021</td>\n",
              "      <td>0.060086</td>\n",
              "      <td>0.057878</td>\n",
              "      <td>0.093817</td>\n",
              "      <td>0.101786</td>\n",
              "      <td>0.131034</td>\n",
              "      <td>0.143113</td>\n",
              "      <td>0.149045</td>\n",
              "      <td>0.184943</td>\n",
              "      <td>0.141343</td>\n",
              "      <td>0.168464</td>\n",
              "      <td>0.178988</td>\n",
              "      <td>0.168744</td>\n",
              "      <td>0.17316</td>\n",
              "      <td>0.178218</td>\n",
              "      <td>0.163498</td>\n",
              "      <td>0.163107</td>\n",
              "      <td>0.163658</td>\n",
              "      <td>0.199561</td>\n",
              "      <td>0.18287</td>\n",
              "      <td>0.203267</td>\n",
              "      <td>0.145946</td>\n",
              "      <td>0.183016</td>\n",
              "      <td>0.140127</td>\n",
              "      <td>0.238739</td>\n",
              "      <td>0.157609</td>\n",
              "      <td>0.170635</td>\n",
              "      <td>0.14795</td>\n",
              "      <td>0.164751</td>\n",
              "      <td>0.154362</td>\n",
              "      <td>0.15674</td>\n",
              "      <td>0.143411</td>\n",
              "      <td>0.174888</td>\n",
              "      <td>0.15493</td>\n",
              "      <td>0.143885</td>\n",
              "      <td>0.149194</td>\n",
              "      <td>0.167382</td>\n",
              "      <td>0.136054</td>\n",
              "      <td>...</td>\n",
              "      <td>0.136691</td>\n",
              "      <td>0.148936</td>\n",
              "      <td>0.144578</td>\n",
              "      <td>0.09375</td>\n",
              "      <td>0.103093</td>\n",
              "      <td>0.118644</td>\n",
              "      <td>0.104839</td>\n",
              "      <td>0.147287</td>\n",
              "      <td>0.103448</td>\n",
              "      <td>0.113553</td>\n",
              "      <td>0.138298</td>\n",
              "      <td>0.154639</td>\n",
              "      <td>0.133333</td>\n",
              "      <td>0.129032</td>\n",
              "      <td>0.067568</td>\n",
              "      <td>0.125</td>\n",
              "      <td>0.107143</td>\n",
              "      <td>0.085366</td>\n",
              "      <td>0.122807</td>\n",
              "      <td>0.145161</td>\n",
              "      <td>0.125</td>\n",
              "      <td>0.125</td>\n",
              "      <td>0.060606</td>\n",
              "      <td>0.1</td>\n",
              "      <td>0.036364</td>\n",
              "      <td>0.12</td>\n",
              "      <td>0.066667</td>\n",
              "      <td>0.083333</td>\n",
              "      <td>0.0625</td>\n",
              "      <td>0.035714</td>\n",
              "      <td>0.0</td>\n",
              "      <td>0.0</td>\n",
              "      <td>0.25</td>\n",
              "      <td>0.0</td>\n",
              "      <td>0.166667</td>\n",
              "      <td>0.0</td>\n",
              "      <td>0.0</td>\n",
              "      <td>0.0</td>\n",
              "      <td>0.0</td>\n",
              "      <td>0.0</td>\n",
              "    </tr>\n",
              "  </tbody>\n",
              "</table>\n",
              "<p>1 rows × 85 columns</p>\n",
              "</div>"
            ],
            "text/plain": [
              "Respondent_Age    16.0      17.0      18.0   ...  98.0   99.0   100.0\n",
              "Has_account     0.01087  0.021097  0.036021  ...    0.0    0.0    0.0\n",
              "\n",
              "[1 rows x 85 columns]"
            ]
          },
          "metadata": {
            "tags": []
          },
          "execution_count": 598
        }
      ]
    },
    {
      "cell_type": "markdown",
      "metadata": {
        "id": "WiezQh9JYga_"
      },
      "source": [
        "the highest average age with thosee who have account is 42 years"
      ]
    },
    {
      "cell_type": "code",
      "metadata": {
        "id": "3JKYfbesXUb3",
        "outputId": "e7a900f7-0a83-4f81-9f40-f01d19091a21",
        "colab": {
          "base_uri": "https://localhost:8080/",
          "height": 77
        }
      },
      "source": [
        "# Respondent_Age\n",
        "bank_df1.pivot_table(values='Has_account', columns='gender_of_respondent', aggfunc='mean')"
      ],
      "execution_count": 599,
      "outputs": [
        {
          "output_type": "execute_result",
          "data": {
            "text/html": [
              "<div>\n",
              "<style scoped>\n",
              "    .dataframe tbody tr th:only-of-type {\n",
              "        vertical-align: middle;\n",
              "    }\n",
              "\n",
              "    .dataframe tbody tr th {\n",
              "        vertical-align: top;\n",
              "    }\n",
              "\n",
              "    .dataframe thead th {\n",
              "        text-align: right;\n",
              "    }\n",
              "</style>\n",
              "<table border=\"1\" class=\"dataframe\">\n",
              "  <thead>\n",
              "    <tr style=\"text-align: right;\">\n",
              "      <th>gender_of_respondent</th>\n",
              "      <th>Female</th>\n",
              "      <th>Male</th>\n",
              "    </tr>\n",
              "  </thead>\n",
              "  <tbody>\n",
              "    <tr>\n",
              "      <th>Has_account</th>\n",
              "      <td>0.107503</td>\n",
              "      <td>0.189745</td>\n",
              "    </tr>\n",
              "  </tbody>\n",
              "</table>\n",
              "</div>"
            ],
            "text/plain": [
              "gender_of_respondent    Female      Male\n",
              "Has_account           0.107503  0.189745"
            ]
          },
          "metadata": {
            "tags": []
          },
          "execution_count": 599
        }
      ]
    },
    {
      "cell_type": "markdown",
      "metadata": {
        "id": "ioOXnu8_YIwk"
      },
      "source": [
        "female are the highest account holder"
      ]
    },
    {
      "cell_type": "code",
      "metadata": {
        "id": "3UQ7urpuYkET",
        "outputId": "1451c61a-12d4-4f5c-9c0d-1a7fb92f1c98",
        "colab": {
          "base_uri": "https://localhost:8080/",
          "height": 97
        }
      },
      "source": [
        "bank_df1.pivot_table(values='Has_account', columns='household_size', aggfunc='mean')"
      ],
      "execution_count": 611,
      "outputs": [
        {
          "output_type": "execute_result",
          "data": {
            "text/html": [
              "<div>\n",
              "<style scoped>\n",
              "    .dataframe tbody tr th:only-of-type {\n",
              "        vertical-align: middle;\n",
              "    }\n",
              "\n",
              "    .dataframe tbody tr th {\n",
              "        vertical-align: top;\n",
              "    }\n",
              "\n",
              "    .dataframe thead th {\n",
              "        text-align: right;\n",
              "    }\n",
              "</style>\n",
              "<table border=\"1\" class=\"dataframe\">\n",
              "  <thead>\n",
              "    <tr style=\"text-align: right;\">\n",
              "      <th>household_size</th>\n",
              "      <th>0.0</th>\n",
              "      <th>1.0</th>\n",
              "      <th>2.0</th>\n",
              "      <th>3.0</th>\n",
              "      <th>4.0</th>\n",
              "      <th>5.0</th>\n",
              "      <th>6.0</th>\n",
              "      <th>7.0</th>\n",
              "      <th>8.0</th>\n",
              "      <th>9.0</th>\n",
              "      <th>10.0</th>\n",
              "      <th>11.0</th>\n",
              "      <th>12.0</th>\n",
              "      <th>13.0</th>\n",
              "      <th>14.0</th>\n",
              "      <th>15.0</th>\n",
              "      <th>16.0</th>\n",
              "      <th>17.0</th>\n",
              "      <th>18.0</th>\n",
              "      <th>20.0</th>\n",
              "      <th>21.0</th>\n",
              "    </tr>\n",
              "  </thead>\n",
              "  <tbody>\n",
              "    <tr>\n",
              "      <th>Has_account</th>\n",
              "      <td>0.027778</td>\n",
              "      <td>0.170825</td>\n",
              "      <td>0.12362</td>\n",
              "      <td>0.143142</td>\n",
              "      <td>0.1475</td>\n",
              "      <td>0.151694</td>\n",
              "      <td>0.132085</td>\n",
              "      <td>0.128447</td>\n",
              "      <td>0.114865</td>\n",
              "      <td>0.101695</td>\n",
              "      <td>0.13089</td>\n",
              "      <td>0.090909</td>\n",
              "      <td>0.106061</td>\n",
              "      <td>0.08</td>\n",
              "      <td>0.222222</td>\n",
              "      <td>0.181818</td>\n",
              "      <td>0.0</td>\n",
              "      <td>1.0</td>\n",
              "      <td>0.0</td>\n",
              "      <td>0.0</td>\n",
              "      <td>0.0</td>\n",
              "    </tr>\n",
              "  </tbody>\n",
              "</table>\n",
              "</div>"
            ],
            "text/plain": [
              "household_size      0.0       1.0      2.0       3.0   ...  17.0  18.0  20.0  21.0\n",
              "Has_account     0.027778  0.170825  0.12362  0.143142  ...   1.0   0.0   0.0   0.0\n",
              "\n",
              "[1 rows x 21 columns]"
            ]
          },
          "metadata": {
            "tags": []
          },
          "execution_count": 611
        }
      ]
    },
    {
      "cell_type": "markdown",
      "metadata": {
        "id": "Qk_9Q51yY8UV"
      },
      "source": [
        "those with the household size of 14 members are the highest account holder."
      ]
    },
    {
      "cell_type": "markdown",
      "metadata": {
        "id": "bANMCan9v-a9"
      },
      "source": [
        "## 10.0 Multivariate Analysis"
      ]
    },
    {
      "cell_type": "markdown",
      "metadata": {
        "id": "VypUUpxCL8sg"
      },
      "source": [
        "###Principal Component Analysis(PCA)"
      ]
    },
    {
      "cell_type": "code",
      "metadata": {
        "id": "JMwlxOGoS8Vv"
      },
      "source": [
        "# Step 1: Importing Libraries\n",
        "import pandas as pd\n",
        "import numpy as np\n",
        "import matplotlib.pyplot as plt\n",
        "import seaborn as sns"
      ],
      "execution_count": 607,
      "outputs": []
    },
    {
      "cell_type": "code",
      "metadata": {
        "id": "pSMum--aRGje",
        "outputId": "a399e9a5-f59c-49f8-e248-4d80a644106f",
        "colab": {
          "base_uri": "https://localhost:8080/",
          "height": 197
        }
      },
      "source": [
        "#Step 2: Let's take a look at what our dataset looks like\n",
        "bank_df2.head()"
      ],
      "execution_count": 608,
      "outputs": [
        {
          "output_type": "execute_result",
          "data": {
            "text/html": [
              "<div>\n",
              "<style scoped>\n",
              "    .dataframe tbody tr th:only-of-type {\n",
              "        vertical-align: middle;\n",
              "    }\n",
              "\n",
              "    .dataframe tbody tr th {\n",
              "        vertical-align: top;\n",
              "    }\n",
              "\n",
              "    .dataframe thead th {\n",
              "        text-align: right;\n",
              "    }\n",
              "</style>\n",
              "<table border=\"1\" class=\"dataframe\">\n",
              "  <thead>\n",
              "    <tr style=\"text-align: right;\">\n",
              "      <th></th>\n",
              "      <th>household_size</th>\n",
              "      <th>Respondent_Age</th>\n",
              "      <th>gender_of_respondent</th>\n",
              "      <th>Has_account</th>\n",
              "      <th>respondent_country</th>\n",
              "    </tr>\n",
              "  </thead>\n",
              "  <tbody>\n",
              "    <tr>\n",
              "      <th>0</th>\n",
              "      <td>3.0</td>\n",
              "      <td>24.0</td>\n",
              "      <td>Female</td>\n",
              "      <td>1</td>\n",
              "      <td>0</td>\n",
              "    </tr>\n",
              "    <tr>\n",
              "      <th>1</th>\n",
              "      <td>5.0</td>\n",
              "      <td>70.0</td>\n",
              "      <td>Female</td>\n",
              "      <td>0</td>\n",
              "      <td>0</td>\n",
              "    </tr>\n",
              "    <tr>\n",
              "      <th>2</th>\n",
              "      <td>5.0</td>\n",
              "      <td>26.0</td>\n",
              "      <td>Male</td>\n",
              "      <td>1</td>\n",
              "      <td>0</td>\n",
              "    </tr>\n",
              "    <tr>\n",
              "      <th>3</th>\n",
              "      <td>5.0</td>\n",
              "      <td>34.0</td>\n",
              "      <td>Female</td>\n",
              "      <td>0</td>\n",
              "      <td>0</td>\n",
              "    </tr>\n",
              "    <tr>\n",
              "      <th>4</th>\n",
              "      <td>8.0</td>\n",
              "      <td>26.0</td>\n",
              "      <td>Male</td>\n",
              "      <td>0</td>\n",
              "      <td>0</td>\n",
              "    </tr>\n",
              "  </tbody>\n",
              "</table>\n",
              "</div>"
            ],
            "text/plain": [
              "   household_size  Respondent_Age  ... Has_account  respondent_country\n",
              "0             3.0            24.0  ...           1                   0\n",
              "1             5.0            70.0  ...           0                   0\n",
              "2             5.0            26.0  ...           1                   0\n",
              "3             5.0            34.0  ...           0                   0\n",
              "4             8.0            26.0  ...           0                   0\n",
              "\n",
              "[5 rows x 5 columns]"
            ]
          },
          "metadata": {
            "tags": []
          },
          "execution_count": 608
        }
      ]
    },
    {
      "cell_type": "code",
      "metadata": {
        "id": "p6lI1dIUL0i5",
        "outputId": "eee5a8eb-19ef-43b4-80cf-339794c434f3",
        "colab": {
          "base_uri": "https://localhost:8080/",
          "height": 132
        }
      },
      "source": [
        "# Step 3: Preprocessing\n",
        "# The first preprocessing step is to divide the dataset into a feature set and corresponding labels. \n",
        "# The following script performs this task. The script below stores the feature sets into the X variable \n",
        "# and the series of corresponding labels in to the y variable.\n",
        "# \n",
        "x= bank_df2.drop('gender_of_respondent', 1)\n",
        "y= bank_df2['gender_of_respondent')\n",
        "\n",
        "print(x)\n"
      ],
      "execution_count": 609,
      "outputs": [
        {
          "output_type": "error",
          "ename": "SyntaxError",
          "evalue": "ignored",
          "traceback": [
            "\u001b[0;36m  File \u001b[0;32m\"<ipython-input-609-9be619c77011>\"\u001b[0;36m, line \u001b[0;32m7\u001b[0m\n\u001b[0;31m    y= bank_df2['gender_of_respondent')\u001b[0m\n\u001b[0m                                      ^\u001b[0m\n\u001b[0;31mSyntaxError\u001b[0m\u001b[0;31m:\u001b[0m invalid syntax\n"
          ]
        }
      ]
    },
    {
      "cell_type": "code",
      "metadata": {
        "id": "0MBM9dkHW90C"
      },
      "source": [
        "# Step 4: Splitting the dataset into the Training set and Test set\n",
        "# The next preprocessing step is to divide data into training and test sets. \n",
        "# We execute the following script to do so:\n",
        "#\n",
        "from sklearn.model_selection import train_test_split\n",
        "\n",
        "X_train, X_test, y_train, y_test = train_test_split(X, y, test_size=0.2, random_state=0)"
      ],
      "execution_count": null,
      "outputs": []
    },
    {
      "cell_type": "code",
      "metadata": {
        "id": "vczxIYlrXBmg"
      },
      "source": [
        "#step 4: Normalization\n",
        "# As mentioned earlier, PCA performs best with a normalized feature set. \n",
        "# We will perform standard scalar normalization to normalize our feature set. \n",
        "# To do this, we execute the following code:\n",
        "# \n",
        "from sklearn.preprocessing import StandardScaler\n",
        "\n",
        "sc = StandardScaler()\n",
        "X_train = sc.fit_transform(X_train)\n",
        "X_test = sc.transform(X_test)"
      ],
      "execution_count": null,
      "outputs": []
    },
    {
      "cell_type": "code",
      "metadata": {
        "id": "5FsOO5q0XNN2"
      },
      "source": [
        "#step 5: appying PCA\n",
        "from sklearn.decomposition import PCA\n",
        "\n",
        "pca = PCA()\n",
        "X_train = pca.fit_transform(X_train)\n",
        "X_test = pca.transform(X_test)"
      ],
      "execution_count": null,
      "outputs": []
    },
    {
      "cell_type": "code",
      "metadata": {
        "id": "Z-m2dfC4XVCf"
      },
      "source": [
        "#step 6: Explained Variance Ratio\n",
        "explained_variance = pca.explained_variance_ratio_\n",
        "#\n",
        "# The values for the explained_variance variable looks like what is shown in the output. \n",
        "# It can be seen that first principal component is responsible for 33% variance. \n",
        "# Similarly, the second principal component causes 13% variance in the dataset. \n",
        "# Collectively we can say that (33 + 13) 46% percent of the classification information contained \n",
        "# in the feature set is captured by the first two principal components\n",
        "explained_variance"
      ],
      "execution_count": null,
      "outputs": []
    },
    {
      "cell_type": "markdown",
      "metadata": {
        "id": "7z_SYJNyjE7p"
      },
      "source": [
        "the 46% of the classification information is contained in the feature set is captured by the first two pricnipals."
      ]
    },
    {
      "cell_type": "code",
      "metadata": {
        "id": "83P7_IrgX-Cb"
      },
      "source": [
        " #step 6: Let's first try to use 1 principal component to train our algorithm. To do so, execute the following code:\n",
        "from sklearn.decomposition import PCA\n",
        "\n",
        "pca = PCA(n_components=1)\n",
        "X_train = pca.fit_transform(X_train)\n",
        "X_test = pca.transform(X_test)"
      ],
      "execution_count": null,
      "outputs": []
    },
    {
      "cell_type": "code",
      "metadata": {
        "id": "-yPiFvvvYMKf"
      },
      "source": [
        "#step 7: using random forest classification in making Predictions\n",
        "# In this case we'll use random forest classification for making the predictions.\n",
        "# \n",
        "from sklearn.ensemble import RandomForestClassifier\n",
        "\n",
        "classifier = RandomForestClassifier(max_depth=2, random_state=0)\n",
        "classifier.fit(X_train, y_train)\n",
        "\n",
        "# Predicting the Test set results\n",
        "y_pred = classifier.predict(X_test)"
      ],
      "execution_count": null,
      "outputs": []
    },
    {
      "cell_type": "code",
      "metadata": {
        "id": "nnomG4I-YXTJ"
      },
      "source": [
        "# Step 8: Performance Evaluation\n",
        "# \n",
        "from sklearn.metrics import confusion_matrix\n",
        "from sklearn.metrics import accuracy_score\n",
        "\n",
        "cm = confusion_matrix(y_test, y_pred)\n",
        "print(cm)\n",
        "print('Accuracy' , accuracy_score(y_test, y_pred))\n",
        "# Noting that from the output that with only one feature, \n",
        "# the random forest algorithm is able to correctly predict 28 out of 30 instances, \n",
        "# resulting in 91% accuracy"
      ],
      "execution_count": null,
      "outputs": []
    },
    {
      "cell_type": "markdown",
      "metadata": {
        "id": "NkS6mFLPNvNj"
      },
      "source": [
        "###Linear Discriminant Analysis (LDA)"
      ]
    },
    {
      "cell_type": "code",
      "metadata": {
        "id": "wS_AZxgKJr_c"
      },
      "source": [
        "bank_df2.head()"
      ],
      "execution_count": null,
      "outputs": []
    },
    {
      "cell_type": "code",
      "metadata": {
        "id": "MbR9MnzbKaOq"
      },
      "source": [
        "#step 1:  Once dataset is loaded into a pandas data frame object, the first step is to divide dataset \n",
        "# into features and corresponding labels and then divide the resultant dataset into training and test sets. \n",
        "# The following code divides data into labels and feature set. \n",
        "# The code assigns the first four columns of the dataset i.e. the feature set to X variable \n",
        "# while the values in the fifth column (labels) are assigned to the y variable\n",
        "X = bank_df2.iloc[:, 2:12].values\n",
        "y = bank_df2.iloc[:, 12].values"
      ],
      "execution_count": null,
      "outputs": []
    },
    {
      "cell_type": "code",
      "metadata": {
        "id": "RWQITnyNMAhj"
      },
      "source": [
        "#step 2: The following code divides data into training and test sets\n",
        "#\n",
        "from sklearn.model_selection import train_test_split\n",
        "X_train, X_test, y_train, y_test = train_test_split(X, y, test_size=0.2, random_state=0)"
      ],
      "execution_count": null,
      "outputs": []
    },
    {
      "cell_type": "code",
      "metadata": {
        "id": "FMNAXBQQMJrT"
      },
      "source": [
        "#step 3: Feature scaling\n",
        "# We now need to perform feature scaling. We execute the following code to do so:\n",
        "# \n",
        "from sklearn.preprocessing import StandardScaler\n",
        "sc = StandardScaler()\n",
        "X_train = sc.fit_transform(X_train)\n",
        "X_test = sc.transform(X_test)"
      ],
      "execution_count": null,
      "outputs": []
    },
    {
      "cell_type": "code",
      "metadata": {
        "id": "kyrrfwdIL0Jo"
      },
      "source": [
        " #step 4: Peforming LDA\n",
        "# It requires only four lines of code to perform LDA with Scikit-Learn. \n",
        "# The LinearDiscriminantAnalysis class of the sklearn.discriminant_analysis \n",
        "# library can be used to Perform LDA in Python. \n",
        "# Let's take a look at the following code\n",
        "#\n",
        "\n",
        "from sklearn.discriminant_analysis import LinearDiscriminantAnalysis as LDA\n",
        "lda = LDA(n_components=1)\n",
        "X_train = lda.fit_transform(X_train, y_train)\n",
        "X_test = lda.transform(X_test)"
      ],
      "execution_count": null,
      "outputs": []
    },
    {
      "cell_type": "code",
      "metadata": {
        "id": "bWdBI31RMfei"
      },
      "source": [
        "#step 5: Training and Making Predictions\n",
        "# We will use the random forest classifier to evaluate the performance of a PCA-reduced algorithms as shown\n",
        "# \n",
        "\n",
        "from sklearn.ensemble import RandomForestClassifier\n",
        "\n",
        "classifier = RandomForestClassifier(max_depth=2, random_state=0)\n",
        "classifier.fit(X_train, y_train)\n",
        "y_pred = classifier.predict(X_test)"
      ],
      "execution_count": null,
      "outputs": []
    },
    {
      "cell_type": "code",
      "metadata": {
        "id": "4OQeb7tJMpdk"
      },
      "source": [
        "#:step 6: Evaluating the Performance\n",
        "# As always, the last step is to evaluate performance of the algorithm \n",
        "# with the help of a confusion matrix and find the accuracy of the prediction.\n",
        "# \n",
        "\n",
        "from sklearn.metrics import confusion_matrix\n",
        "from sklearn.metrics import accuracy_score\n",
        "\n",
        "cm = confusion_matrix(y_test, y_pred)\n",
        "print(cm)\n",
        "print('Accuracy' + str(accuracy_score(y_test, y_pred)))\n",
        "# Noting that from the output that with only one feature, \n",
        "# the random forest algorithm is able to correctly predict the instances, \n",
        "# resulting in 91% accuracy"
      ],
      "execution_count": null,
      "outputs": []
    },
    {
      "cell_type": "markdown",
      "metadata": {
        "id": "n1ewBwR_kHBY"
      },
      "source": [
        "the random forest algorithm is able to correctly predict the instances, resulting in 91% accuracy"
      ]
    },
    {
      "cell_type": "markdown",
      "metadata": {
        "id": "WpL5q8jJeg4z"
      },
      "source": [
        "###multivariate summary"
      ]
    },
    {
      "cell_type": "code",
      "metadata": {
        "id": "-LjO6vsbeffp",
        "outputId": "92aa3b0e-070b-4d8d-a570-f1cc5d28c63c",
        "colab": {
          "base_uri": "https://localhost:8080/",
          "height": 123
        }
      },
      "source": [
        "#multivariate summary\n",
        "#\n",
        "#relatioship between gender and bank account.\n",
        "bank_df1.groupby([\"gender_of_respondent\",\"Has_account\"])[\"uniqueid\"].count()"
      ],
      "execution_count": 615,
      "outputs": [
        {
          "output_type": "execute_result",
          "data": {
            "text/plain": [
              "gender_of_respondent  Has_account\n",
              "Female                0              12287\n",
              "                      1               1480\n",
              "Male                  0               7759\n",
              "                      1               1817\n",
              "Name: uniqueid, dtype: int64"
            ]
          },
          "metadata": {
            "tags": []
          },
          "execution_count": 615
        }
      ]
    },
    {
      "cell_type": "markdown",
      "metadata": {
        "id": "nrdC6vMYfQ3a"
      },
      "source": [
        "more female does not have account at 12287 compared to those who have of the total female respondent.\n",
        "however, female still lead with having bank account in the total gender polutaion.\n",
        "\n"
      ]
    },
    {
      "cell_type": "code",
      "metadata": {
        "id": "D4n91Le0kKSP",
        "outputId": "e558dc57-726c-405d-b48e-da37f8cb1dbf",
        "colab": {
          "base_uri": "https://localhost:8080/",
          "height": 1000
        }
      },
      "source": [
        "#\n",
        "bank_df1.groupby([\"Respondent_Age\",\"Has_account\"])[\"uniqueid\"].count().sort_values(ascending=False).head(60) "
      ],
      "execution_count": 627,
      "outputs": [
        {
          "output_type": "execute_result",
          "data": {
            "text/plain": [
              "Respondent_Age  Has_account\n",
              "30.0            0              867\n",
              "35.0            0              695\n",
              "25.0            0              668\n",
              "28.0            0              617\n",
              "20.0            0              586\n",
              "32.0            0              581\n",
              "18.0            0              562\n",
              "40.0            0              558\n",
              "23.0            0              504\n",
              "22.0            0              503\n",
              "26.0            0              498\n",
              "27.0            0              486\n",
              "24.0            0              479\n",
              "45.0            0              478\n",
              "17.0            0              464\n",
              "16.0            0              455\n",
              "33.0            0              440\n",
              "38.0            0              439\n",
              "19.0            0              438\n",
              "34.0            0              431\n",
              "21.0            0              425\n",
              "29.0            0              422\n",
              "31.0            0              382\n",
              "50.0            0              368\n",
              "36.0            0              365\n",
              "37.0            0              353\n",
              "42.0            0              338\n",
              "60.0            0              337\n",
              "39.0            0              316\n",
              "43.0            0              310\n",
              "41.0            0              270\n",
              "48.0            0              269\n",
              "65.0            0              261\n",
              "55.0            0              254\n",
              "47.0            0              252\n",
              "70.0            0              242\n",
              "52.0            0              238\n",
              "49.0            0              221\n",
              "46.0            0              218\n",
              "53.0            0              211\n",
              "44.0            0              209\n",
              "56.0            0              209\n",
              "54.0            0              194\n",
              "58.0            0              180\n",
              "51.0            0              180\n",
              "30.0            1              176\n",
              "57.0            0              154\n",
              "63.0            0              142\n",
              "75.0            0              138\n",
              "35.0            1              136\n",
              "59.0            0              131\n",
              "32.0            1              126\n",
              "28.0            1              125\n",
              "40.0            1              125\n",
              "62.0            0              120\n",
              "61.0            0              120\n",
              "25.0            1              117\n",
              "64.0            0              116\n",
              "26.0            1              113\n",
              "38.0            1              112\n",
              "Name: uniqueid, dtype: int64"
            ]
          },
          "metadata": {
            "tags": []
          },
          "execution_count": 627
        }
      ]
    },
    {
      "cell_type": "markdown",
      "metadata": {
        "id": "6LSzbBKylMSA"
      },
      "source": [
        "30years old indidual lead with having bank account."
      ]
    },
    {
      "cell_type": "code",
      "metadata": {
        "id": "OUjIpWLZl2no",
        "outputId": "b3e99a2e-b4ca-4a1a-98ea-453e50e28f76",
        "colab": {
          "base_uri": "https://localhost:8080/",
          "height": 194
        }
      },
      "source": [
        "#relationship between having bank account and country\n",
        "bank_df1.groupby([\"country\",\"Has_account\"])[\"uniqueid\"].count()"
      ],
      "execution_count": 628,
      "outputs": [
        {
          "output_type": "execute_result",
          "data": {
            "text/plain": [
              "country   Has_account\n",
              "Kenya     0              4544\n",
              "          1              1520\n",
              "Rwanda    0              7687\n",
              "          1               997\n",
              "Tanzania  0              5901\n",
              "          1               599\n",
              "Uganda    0              1914\n",
              "          1               181\n",
              "Name: uniqueid, dtype: int64"
            ]
          },
          "metadata": {
            "tags": []
          },
          "execution_count": 628
        }
      ]
    },
    {
      "cell_type": "markdown",
      "metadata": {
        "id": "uw5VSHjxmISE"
      },
      "source": [
        "kenya leads with individuals having bank accounts.\n",
        "\n",
        "Rwanda leads with indivuals without banks accounts."
      ]
    },
    {
      "cell_type": "code",
      "metadata": {
        "id": "1_xa312Mgp75",
        "outputId": "04d33af4-b2ac-40e7-fffb-1bcbd3915077",
        "colab": {
          "base_uri": "https://localhost:8080/",
          "height": 407
        }
      },
      "source": [
        "#relationship between type of job and having account\n",
        "#\n",
        "bank_df1.groupby([\"Type_of_Job\",\"Has_account\"])[\"uniqueid\"].count().sort_values(ascending=False).head(20)"
      ],
      "execution_count": 630,
      "outputs": [
        {
          "output_type": "execute_result",
          "data": {
            "text/plain": [
              "Type_of_Job                   Has_account\n",
              "Self employed                 0              5517\n",
              "Informally employed           0              5110\n",
              "Farming and Fishing           0              4788\n",
              "Remittance Dependent          0              2269\n",
              "Other Income                  0               881\n",
              "Self employed                 1               844\n",
              "Farming and Fishing           1               634\n",
              "No Income                     0               605\n",
              "Formally employed Private     1               567\n",
              "                              0               481\n",
              "Informally employed           1               440\n",
              "Formally employed Government  1               299\n",
              "Remittance Dependent          1               240\n",
              "Government Dependent          0               197\n",
              "Other Income                  1               196\n",
              "Dont Know/Refuse to answer    0               111\n",
              "Formally employed Government  0                87\n",
              "Government Dependent          1                50\n",
              "Dont Know/Refuse to answer    1                14\n",
              "No Income                     1                13\n",
              "Name: uniqueid, dtype: int64"
            ]
          },
          "metadata": {
            "tags": []
          },
          "execution_count": 630
        }
      ]
    },
    {
      "cell_type": "markdown",
      "metadata": {
        "id": "YOUTzHO2hkG3"
      },
      "source": [
        "those in **self employment and informal emloyment** majority don't have account. 5517 in self employment don't have bank account.\n",
        "interstingly, still they are the ones stilling topping individual with bank account."
      ]
    },
    {
      "cell_type": "code",
      "metadata": {
        "id": "h_3ff4m0iAfr",
        "outputId": "bc0c98be-3bc8-4b6d-87bf-101563eff52c",
        "colab": {
          "base_uri": "https://localhost:8080/",
          "height": 230
        }
      },
      "source": [
        "#relationship between level of education and having bank account\n",
        "#\n",
        "bank_df1.groupby([\"Level_of _Educuation\",\"Has_account\"])[\"uniqueid\"].count().sort_values(ascending=False).head(10)"
      ],
      "execution_count": 617,
      "outputs": [
        {
          "output_type": "execute_result",
          "data": {
            "text/plain": [
              "Level_of _Educuation             Has_account\n",
              "Primary education                0              11606\n",
              "No formal education              0               4291\n",
              "Secondary education              0               3226\n",
              "Primary education                1               1083\n",
              "Secondary education              1                981\n",
              "Tertiary education               1                590\n",
              "                                 0                554\n",
              "Vocational/Specialised training  1                456\n",
              "                                 0                345\n",
              "No formal education              1                176\n",
              "Name: uniqueid, dtype: int64"
            ]
          },
          "metadata": {
            "tags": []
          },
          "execution_count": 617
        }
      ]
    },
    {
      "cell_type": "markdown",
      "metadata": {
        "id": "fppLVNQHisqn"
      },
      "source": [
        "those with primary education leads in those without bank account at as well as they are still the highest bank account holder too."
      ]
    },
    {
      "cell_type": "code",
      "metadata": {
        "id": "k4CRFpYajC7D",
        "outputId": "8bd17488-8e90-4db3-972f-62f0cd29056c",
        "colab": {
          "base_uri": "https://localhost:8080/",
          "height": 123
        }
      },
      "source": [
        "#relationship between location and bank account\n",
        "#\n",
        "bank_df1.groupby([\"Type_of_Location\",\"Has_account\"])[\"uniqueid\"].count().sort_values(ascending=False).head(10)"
      ],
      "execution_count": 618,
      "outputs": [
        {
          "output_type": "execute_result",
          "data": {
            "text/plain": [
              "Type_of_Location  Has_account\n",
              "Rural             0              12601\n",
              "Urban             0               7445\n",
              "Rural             1               1663\n",
              "Urban             1               1634\n",
              "Name: uniqueid, dtype: int64"
            ]
          },
          "metadata": {
            "tags": []
          },
          "execution_count": 618
        }
      ]
    },
    {
      "cell_type": "markdown",
      "metadata": {
        "id": "1DqD3ZLNjpdP"
      },
      "source": [
        "rural respodent leads with those without bank account at 12601.interestingly, rural folks still lead in having bank account when compared to urban respondents."
      ]
    },
    {
      "cell_type": "markdown",
      "metadata": {
        "id": "DuEwMgUpwrUB"
      },
      "source": [
        "## 11. Implementing the Solution"
      ]
    },
    {
      "cell_type": "code",
      "metadata": {
        "id": "Y0VROjCNxPLl"
      },
      "source": [
        "# Implementing the Solution\n",
        "#factors/predictors that determines whether an individual has bank account"
      ],
      "execution_count": null,
      "outputs": []
    },
    {
      "cell_type": "markdown",
      "metadata": {
        "id": "eQclfX9yB3w_"
      },
      "source": [
        "\n",
        "*   country of the indivual matters as Tanzania is leading in those indivual with the bank account.\n",
        "*   Age of an indivual doesn't matter.\n",
        "* Gender matters since the female are the highest bank account holder.\n",
        "*  level of education and job type determine on whether an indivual will have bank account.\n",
        "\n"
      ]
    },
    {
      "cell_type": "markdown",
      "metadata": {
        "id": "jJktichExVu0"
      },
      "source": [
        "## 12. Challenging the solution"
      ]
    },
    {
      "cell_type": "code",
      "metadata": {
        "id": "KBBMbRM7x919"
      },
      "source": [
        "# Reviewing the Solution "
      ],
      "execution_count": null,
      "outputs": []
    },
    {
      "cell_type": "markdown",
      "metadata": {
        "id": "5w9__ViLEjt6"
      },
      "source": [
        "the best question could have been to indentify those without bank account."
      ]
    },
    {
      "cell_type": "markdown",
      "metadata": {
        "id": "IWe-Vj5uyvyE"
      },
      "source": [
        "## 13. Summary & Recommendations"
      ]
    },
    {
      "cell_type": "markdown",
      "metadata": {
        "id": "QUKK_iutC9d-"
      },
      "source": [
        "It was discovered only 14% of the respodent had bank account. there is a need for educating the public on the importance of having bank account. \n",
        "\n",
        "The age group also matter on having bank account, 30 years old indivual leads in having bank account, this might be because at this point they get employed and are more enlightened.\n",
        "\n",
        "kenya has the highest individuals with bank account. this might be because of the several bank halls accross the country.\n",
        "\n",
        "Ladies leads in individuals with bank accounts. this might be attributed to saving calture and quest for future financial freedom.\n",
        "\n"
      ]
    },
    {
      "cell_type": "markdown",
      "metadata": {
        "id": "jgsi8ASoxmON"
      },
      "source": [
        "## 14. Follow up questions"
      ]
    },
    {
      "cell_type": "markdown",
      "metadata": {
        "id": "eaoFZqkRyJOx"
      },
      "source": [
        "### a). Did we have the right data?"
      ]
    },
    {
      "cell_type": "markdown",
      "metadata": {
        "id": "PMb7Tz6yE4i1"
      },
      "source": [
        "the data was right."
      ]
    },
    {
      "cell_type": "markdown",
      "metadata": {
        "id": "qKvdZ-qLyLLt"
      },
      "source": [
        "## b). Do we need other data to answer our question?"
      ]
    },
    {
      "cell_type": "markdown",
      "metadata": {
        "id": "Nfx8Wyv2FQiz"
      },
      "source": [
        "No\n",
        "\n"
      ]
    },
    {
      "cell_type": "markdown",
      "metadata": {
        "id": "A5B74mnpySel"
      },
      "source": [
        "### c). Did we have the right question?"
      ]
    },
    {
      "cell_type": "markdown",
      "metadata": {
        "id": "bCknOPpSFbED"
      },
      "source": [
        "i think the right question could have been factors that hinder individuals having bank account."
      ]
    }
  ]
}